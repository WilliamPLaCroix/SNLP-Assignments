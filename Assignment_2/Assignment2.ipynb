{
 "cells": [
  {
   "attachments": {},
   "cell_type": "markdown",
   "metadata": {},
   "source": [
    "# SNLP Assignment 2\n",
    "\n",
    "Name 1: William LaCroix<br/>\n",
    "Student id 1: 7038732<br/>\n",
    "Email 1: williamplacroix@gmail.com<br/>\n",
    "\n",
    "\n",
    "Name 2: Nicholas Jennings<br/>\n",
    "Student id 2: 2573492<br/>\n",
    "Email 2: s8nijenn@stud.uni-saarland.de<br/> \n",
    "\n",
    "**Instructions:** Read each question carefully. <br/>\n",
    "Make sure you appropriately comment your code wherever required. Your final submission should contain the completed Notebook and the respective Python files for any additional exercises necessary. There is no need to submit the data files should they exist. <br/>\n",
    "Upload the zipped folder on CMS. Please follow the naming convention of **Name1_studentID1_Name2_studentID2.zip**. Make sure to click on \"Turn-in\" (or the equivalent on CMS) after your upload your submission, otherwise the assignment will not be considered as submitted. Only one member of the group should make the submisssion.\n",
    "\n",
    "---"
   ]
  },
  {
   "attachments": {},
   "cell_type": "markdown",
   "metadata": {},
   "source": [
    "## Exercise 1 - Theoretical Concepts (3 points)\n",
    "\n",
    "In this exercise you will review and work on information theory concepts.\n",
    "\n",
    "### 1.1 Joint and conditional entropy (2 points)\n",
    "\n",
    "We define the joint entropy as:\n",
    "\n",
    "$$ H(X,Y) = - \\sum_{x \\in \\mathcal{X}} \\sum_{y \\in \\mathcal{Y}} p(x,y) \\log p(x,y) $$\n",
    "\n",
    "We define the conditional entropy as:\n",
    "\n",
    "$$ \n",
    "\\begin{align}\n",
    "H(Y|X) & = \\sum_{x \\in \\mathcal{X}} p(x,y) H(Y|X=x) \\\\\n",
    "& = \\sum_{x \\in \\mathcal{X}} p(x) \\left[ - \\sum_{y \\in \\mathcal{Y}}p(y|x) \\log p(y|x) \\right]\n",
    "\\end{align}\n",
    "$$\n",
    "\n",
    "Show that $H(X,Y) = H(X) + H(Y|X)$ or that $ H(Y|X) = H(X,Y) - H(X) $ holds.\n",
    "\n",
    "Hint: this is analogous to $ P(y|x) = \\frac{P(x,y)}{P(x)}$ in probability distributions."
   ]
  },
  {
   "attachments": {},
   "cell_type": "markdown",
   "metadata": {},
   "source": [
    "### Answer:\n",
    "\n",
    "$ H(X,Y) = - \\sum_{x \\in \\mathcal{X}} \\sum_{y \\in \\mathcal{Y}} p(x,y) \\log p(x,y) $</br>\n",
    "$ H(X,Y) = - \\sum_{x \\in \\mathcal{X}} \\sum_{y \\in \\mathcal{Y}} p(x,y) \\log p(y|x)p(x) $ ### definition of conditional probability</br> \n",
    "$ H(X,Y) = - \\sum_{x \\in \\mathcal{X}} \\sum_{y \\in \\mathcal{Y}} p(x,y) \\log p(y|x) + \\log p(x) $ ### splitting the log</br>\n",
    "$ H(X,Y) = - \\sum_{x \\in \\mathcal{X}} \\sum_{y \\in \\mathcal{Y}} p(x,y) \\log p(y|x) - \\sum_{x \\in \\mathcal{X}} \\sum_{y \\in \\mathcal{Y}} p(x,y) \\log p(x) $ ### distribute the sum</br>\n",
    "$ H(X,Y) = - \\sum_{x \\in \\mathcal{X}} \\sum_{y \\in \\mathcal{Y}} p(x,y) \\log p(y|x) - \\sum_{x \\in \\mathcal{X}} p(x) \\log p(x) $ ### marginalise over y</br>\n",
    "$ H(X,Y) = - \\sum_{x \\in \\mathcal{X}} p(x) \\sum_{y \\in \\mathcal{Y}} p(y|x) \\log p(y|x) - \\sum_{x \\in \\mathcal{X}} p(x) \\log p(x) $ ### definition of joing probability</br>\n",
    "$ H(X,Y) = H(Y|X) - \\sum_{x \\in \\mathcal{X}} p(x) \\log p(x) $ ### definition of entropy</br>\n",
    "$ H(X,Y) = H(Y|X) + H(X)$ ### definition of conditional entropy</br>"
   ]
  },
  {
   "attachments": {},
   "cell_type": "markdown",
   "metadata": {},
   "source": [
    "### 1.2 Counts as best estimation of probability (1 point)\n",
    "\n",
    "Let's go back to n-grams.\n",
    "\n",
    "Consider the formula: \n",
    "\n",
    "$$P(w_2 | w_1) = \\frac{P(w_1,w_2)}{P(w_1)}$$\n",
    "\n",
    "To actually estimate these n-gram probabilities over a text corpus, we need to define $P$. The estimate for the parameters of the MLE (we will revisit this problem once the lectures have covered MLE) is obtained by getting counts from the corpus and then normalising them so they lie between 0 and 1.\n",
    "\n",
    "Using this, state the empirical formula for finding the conditional probability of unigrams $P(w)$, bigrams $P(w_2|w_1)$, and trigrams $P(w_3|w_1,w_2)$ for a corpus of $N$ words and a vocabulary of size $n$. We do not expect any mathematical proof here, but just the formula for finding the conditional probabilities from the words in the corpus using the shown equation as the starting point. Please clarify any notation that you may use in the formulas.\n",
    "\n",
    "As a hint, we provide you with the probability of unigrams:\n",
    "\n",
    "$$ P(w_i) = \\frac{c(w_i)}{\\sum_{j=1}^n c(w_j)} $$\n",
    "\n",
    "Where $c(w_i)$ is the count of ocurrences of $w_i$.\n",
    "\n",
    "Again, you should provide the conditional probabilities for bigrams and trigrams."
   ]
  },
  {
   "attachments": {},
   "cell_type": "markdown",
   "metadata": {},
   "source": [
    "### Answer:\n",
    "\n",
    "Bigram probability: $\\to P(w_i|w_{i-1}) = \\frac{c(w_{i-1},w_i)}{\\sum_{j=1}^n c(w_{i-1},w_j)} $\n",
    "\n",
    "Trigram probability: $\\to P(w_i|w_{i-2},w_{i-1}) = \\frac{c(w_{i-2},w_{i-1},w_i)}{\\sum_{j=1}^n c(w_{i-2},w_{i-1},w_j)} $"
   ]
  },
  {
   "attachments": {},
   "cell_type": "markdown",
   "metadata": {},
   "source": [
    "## Exercise 2 - Comparing distributions (5 points)\n",
    "\n",
    "In this exercise you will compare the probability distributions $P(w_i|w_{i−1} = ``to\")$ and $P(w_i|w_{i−1} = ``the\")$ . The distribution of the words given the previous word is \"to\" or \"the\" respectively.\n",
    "\n",
    "1. Download the Brown corpus from the web (http://www.nltk.org/nltk_data/) or through the python NLTK toolkit. (0.5 points)\n",
    "1. Tokenize and lowercase each token. (0.5 points)\n",
    "1. Estimate the conditional probability distributions $P(w_i|w_{i−1} = ``to\")$ and $P(w_i|w_{i−1} = ``the\")$\n",
    "with maximum likelihood estimation. (2 point)\n",
    "1. Plot the frequency distribution (unnormalized frequency counts) or the probability distribution for the 50 most frequent tokens for both distributions. Based on the plots which distribution do you expect to have a higher entropy? Justify your answer. (1 points)\n",
    "1. Calculate the entropy for both distributions. Was your guess accurate? Elaborate on why it was right/wrong. (1 point)\n",
    "\n",
    "\n",
    "Some remarks:\n",
    "\n",
    "* Though not crucial, remember to use a base 2 logarithm, i.e. $\\log_2$.\n",
    "* Your code should be fast enough to tokenize and get the bigram statistics for the Brown corpus in a few seconds.\n",
    "* A bar plot would be ideal to visualize the probabilities/counts for the top 50 words.\n",
    "* If you need to modify the boilerplate code below, comment why. **You are allowed to change the provided code, both in the notebook and in the python file, but please explain why you did.**."
   ]
  },
  {
   "cell_type": "code",
   "execution_count": 42,
   "metadata": {},
   "outputs": [
    {
     "name": "stdout",
     "output_type": "stream",
     "text": [
      "Top 50 most frequent bigrams with the context of 'the':\n",
      "1: ('the', 'first') - frequency: 0.009461062440153777\n",
      "2: ('the', 'same') - frequency: 0.008975146846550713\n",
      "3: ('the', 'most') - frequency: 0.005959611839190522\n",
      "4: ('the', 'other') - frequency: 0.005945320204084549\n",
      "5: ('the', '``') - frequency: 0.005788112217918852\n",
      "6: ('the', 'new') - frequency: 0.005673779137071073\n",
      "7: ('the', 'united') - frequency: 0.005616612596647182\n",
      "8: ('the', 'world') - frequency: 0.005159280273256063\n",
      "9: ('the', 'state') - frequency: 0.0038730331137185403\n",
      "10: ('the', 'two') - frequency: 0.0038301582084006233\n",
      "11: ('the', 'only') - frequency: 0.0036872418573408983\n",
      "12: ('the', 'time') - frequency: 0.003587200411599091\n",
      "13: ('the', 'way') - frequency: 0.0034157007903274214\n",
      "14: ('the', 'old') - frequency: 0.003344242614797559\n",
      "15: ('the', 'last') - frequency: 0.003187034628631862\n",
      "16: ('the', 'house') - frequency: 0.0030869931828900543\n",
      "17: ('the', 'next') - frequency: 0.0030012433722542194\n",
      "18: ('the', 'end') - frequency: 0.0029440768318303298\n",
      "19: ('the', 'fact') - frequency: 0.00277257721055866\n",
      "20: ('the', 'whole') - frequency: 0.0027011190350287977\n",
      "21: ('the', 'man') - frequency: 0.0026296608594989354\n",
      "22: ('the', 'american') - frequency: 0.002586785954181018\n",
      "23: ('the', 'door') - frequency: 0.0024581612382272655\n",
      "24: ('the', 'second') - frequency: 0.002443869603121293\n",
      "25: ('the', 'best') - frequency: 0.0023581197924854584\n",
      "26: ('the', 'great') - frequency: 0.0022723699818496235\n",
      "27: ('the', 'city') - frequency: 0.0021580369010018438\n",
      "28: ('the', 'past') - frequency: 0.0021008703605779537\n",
      "29: ('the', 'right') - frequency: 0.0021008703605779537\n",
      "30: ('the', 'president') - frequency: 0.0021008703605779537\n",
      "31: ('the', 'church') - frequency: 0.0020579954552600362\n",
      "32: ('the', 'present') - frequency: 0.0019436623744122565\n",
      "33: ('the', 'public') - frequency: 0.0019150791042003117\n",
      "34: ('the', 'government') - frequency: 0.0018722041988823942\n",
      "35: ('the', 'people') - frequency: 0.0018579125637764216\n",
      "36: ('the', 'one') - frequency: 0.0018436209286704492\n",
      "37: ('the', 'day') - frequency: 0.0017578711180346142\n",
      "38: ('the', 'number') - frequency: 0.0017292878478226694\n",
      "39: ('the', 'west') - frequency: 0.0017007045776107244\n",
      "40: ('the', 'problem') - frequency: 0.0017007045776107244\n",
      "41: ('the', 'more') - frequency: 0.001686412942504752\n",
      "42: ('the', 'following') - frequency: 0.001686412942504752\n",
      "43: ('the', 'general') - frequency: 0.001657829672292807\n",
      "44: ('the', 'national') - frequency: 0.001657829672292807\n",
      "45: ('the', 'entire') - frequency: 0.001657829672292807\n",
      "46: ('the', 'use') - frequency: 0.0016149547669748897\n",
      "47: ('the', 'work') - frequency: 0.0015720798616569722\n",
      "48: ('the', 'rest') - frequency: 0.0015434965914450272\n",
      "49: ('the', 'case') - frequency: 0.0015149133212330823\n",
      "50: ('the', 'latter') - frequency: 0.0015006216861271097\n",
      "\n",
      "\n",
      "Top 50 most frequent bigrams with the context of 'to':\n",
      "1: ('to', 'the') - frequency: 0.13319061090297424\n",
      "2: ('to', 'be') - frequency: 0.06567780411346433\n",
      "3: ('to', 'a') - frequency: 0.02519305757320896\n",
      "4: ('to', 'do') - frequency: 0.01490939674287025\n",
      "5: ('to', 'make') - frequency: 0.013533144735836073\n",
      "6: ('to', 'have') - frequency: 0.012959706399571832\n",
      "7: ('to', 'his') - frequency: 0.012386268063307592\n",
      "8: ('to', 'get') - frequency: 0.011086474501108648\n",
      "9: ('to', 'see') - frequency: 0.009977827050997782\n",
      "10: ('to', 'take') - frequency: 0.00798990748528175\n",
      "11: ('to', 'him') - frequency: 0.007913449040446517\n",
      "12: ('to', 'go') - frequency: 0.007454698371435125\n",
      "13: ('to', 'say') - frequency: 0.007034176924841349\n",
      "14: ('to', 'me') - frequency: 0.0066518847006651885\n",
      "15: ('to', 'her') - frequency: 0.006460738588577109\n",
      "16: ('to', 'this') - frequency: 0.005810841807477636\n",
      "17: ('to', 'give') - frequency: 0.00577261258506002\n",
      "18: ('to', 'their') - frequency: 0.005505008028136708\n",
      "19: ('to', 'find') - frequency: 0.005237403471213395\n",
      "20: ('to', 'keep') - frequency: 0.005084486581542931\n",
      "21: ('to', 'an') - frequency: 0.0048168820246196195\n",
      "22: ('to', '``') - frequency: 0.003975839131432067\n",
      "23: ('to', 'know') - frequency: 0.0038993806865968345\n",
      "24: ('to', 'which') - frequency: 0.0038611514641792187\n",
      "25: ('to', 'work') - frequency: 0.0037846930193439865\n",
      "26: ('to', 'it') - frequency: 0.0037082345745087543\n",
      "27: ('to', 'come') - frequency: 0.0036317761296735225\n",
      "28: ('to', 'provide') - frequency: 0.003478859240003058\n",
      "29: ('to', 'look') - frequency: 0.003478859240003058\n",
      "30: ('to', 'help') - frequency: 0.0033259423503325942\n",
      "31: ('to', 'that') - frequency: 0.0032877131279149784\n",
      "32: ('to', 'tell') - frequency: 0.003249483905497362\n",
      "33: ('to', 'think') - frequency: 0.003134796238244514\n",
      "34: ('to', 'them') - frequency: 0.003134796238244514\n",
      "35: ('to', 'become') - frequency: 0.003020108570991666\n",
      "36: ('to', 'one') - frequency: 0.00298187934857405\n",
      "37: ('to', 'meet') - frequency: 0.002943650126156434\n",
      "38: ('to', 'use') - frequency: 0.002905420903738818\n",
      "39: ('to', 'leave') - frequency: 0.002905420903738818\n",
      "40: ('to', 'show') - frequency: 0.002867191681321202\n",
      "41: ('to', 'put') - frequency: 0.002867191681321202\n",
      "42: ('to', 'its') - frequency: 0.002867191681321202\n",
      "43: ('to', 'bring') - frequency: 0.0027142747916507376\n",
      "44: ('to', 'those') - frequency: 0.0027142747916507376\n",
      "45: ('to', 'pay') - frequency: 0.0026760455692331217\n",
      "46: ('to', 'all') - frequency: 0.0024084410123098097\n",
      "47: ('to', 'you') - frequency: 0.0023702117898921934\n",
      "48: ('to', 'live') - frequency: 0.0023319825674745776\n",
      "49: ('to', 'some') - frequency: 0.0022555241226393454\n",
      "50: ('to', 'hold') - frequency: 0.0022172949002217295\n",
      "\n",
      "\n"
     ]
    }
   ],
   "source": [
    "from importlib import reload\n",
    "import exercise_2_and_3\n",
    "exercise_2_and_3 = reload(exercise_2_and_3)\n",
    "\n",
    "tokenized_corpus = exercise_2_and_3.load_corpus()\n",
    "top_50 = exercise_2_and_3.get_top_n_probabilities(tokenized_corpus, ['the', 'to'], 50)\n",
    "\n",
    "# Feel free to make the printing of the result \"prettier\"\n",
    "for context in top_50:\n",
    "    print(f\"Top 50 most frequent bigrams with the context of '{context}':\")\n",
    "    for i, (bigram, count) in enumerate(top_50[context]):\n",
    "        print(f\"{i+1}: {bigram} - frequency: {count}\")\n",
    "    print(\"\\n\")"
   ]
  },
  {
   "cell_type": "code",
   "execution_count": 43,
   "metadata": {},
   "outputs": [
    {
     "data": {
      "image/png": "[encoded data removed]",
      "text/plain": [
       "<Figure size 640x480 with 1 Axes>"
      ]
     },
     "metadata": {},
     "output_type": "display_data"
    },
    {
     "data": {
      "image/png": "[encoded data removed]",
      "text/plain": [
       "<Figure size 640x480 with 1 Axes>"
      ]
     },
     "metadata": {},
     "output_type": "display_data"
    }
   ],
   "source": [
    "# Plot frequencies or distributions of the top 50 following words\n",
    "exercise_2_and_3 = reload(exercise_2_and_3) # refresh without running previous cell\n",
    "exercise_2_and_3.plot_top_n(top_50)"
   ]
  },
  {
   "attachments": {},
   "cell_type": "markdown",
   "metadata": {},
   "source": [
    "### Answer 2.4:\n",
    "We would expect 'the' to have higher entropy, since entropy is maximized when the frequency distribuition for all of the elements are identical to the mean frequency. The top 50 elements in the 'the' plot look a lot more \"flat\", and perfectly flat box plot would have equal frequency distributions (max entropy), and since 'the' seems to have a more even distribution, it would then have higher entropy."
   ]
  },
  {
   "cell_type": "code",
   "execution_count": 1,
   "metadata": {},
   "outputs": [
    {
     "ename": "NameError",
     "evalue": "name 'reload' is not defined",
     "output_type": "error",
     "traceback": [
      "\u001b[1;31m---------------------------------------------------------------------------\u001b[0m",
      "\u001b[1;31mNameError\u001b[0m                                 Traceback (most recent call last)",
      "Cell \u001b[1;32mIn[1], line 2\u001b[0m\n\u001b[0;32m      1\u001b[0m \u001b[39m# Calculate the entropy\u001b[39;00m\n\u001b[1;32m----> 2\u001b[0m exercise_2_and_3 \u001b[39m=\u001b[39m reload(exercise_2_and_3) \u001b[39m# refresh without running previous cell\u001b[39;00m\n\u001b[0;32m      3\u001b[0m \u001b[39mprint\u001b[39m(exercise_2_and_3\u001b[39m.\u001b[39mget_entropy(top_50))\n\u001b[0;32m      4\u001b[0m \u001b[39m#\u001b[39;00m\n",
      "\u001b[1;31mNameError\u001b[0m: name 'reload' is not defined"
     ]
    }
   ],
   "source": [
    "# Calculate the entropy\n",
    "exercise_2_and_3 = reload(exercise_2_and_3) # refresh without running previous cell\n",
    "print(exercise_2_and_3.get_entropy(top_50))"
   ]
  },
  {
   "attachments": {},
   "cell_type": "markdown",
   "metadata": {},
   "source": [
    "## Exercise 3 - Mean rank (1 point)\n",
    "\n",
    "With the distributions from exercise 2, calculate the perplexity and mean rank of the following phrases:\n",
    "\n",
    "* \"the election\"\n",
    "* \"the jury\"\n",
    "* \"the administration\"\n",
    "* \"the to\"\n",
    "* \"the the\"\n",
    "\n",
    "How close are the two metrics? Which one would you use?\n",
    "\n",
    "Note: Assume that bi-grams not present have a $P$ of $0^+$, and therefore a logarithm value of $-\\infty$."
   ]
  },
  {
   "cell_type": "code",
   "execution_count": 116,
   "metadata": {},
   "outputs": [
    {
     "name": "stdout",
     "output_type": "stream",
     "text": [
      "the\n",
      "Mean rank: 363.0\n"
     ]
    }
   ],
   "source": [
    "# You will probably need to pass more arguments aside from just the bigram\n",
    "# to be evaluated to each of these calls.\n",
    "exercise_2_and_3 = reload(exercise_2_and_3) # refresh without running previous cell\n",
    "\n",
    "# Get perplexity scores\n",
    "# exercise_2_and_3.get_perplexity(\"the election\")\n",
    "# exercise_2_and_3.get_perplexity(\"the jury\")\n",
    "# exercise_2_and_3.get_perplexity(\"the administration\")\n",
    "# exercise_2_and_3.get_perplexity(\"the to\")\n",
    "# exercise_2_and_3.get_perplexity(\"the the\")\n",
    "\n",
    "# Get mean rank scores\n",
    "exercise_2_and_3.get_mean_rank([\"the election\",\"the jury\",\"the administration\",\"the to\",\"the the\"], tokenized_corpus) # condensed into single function call"
   ]
  }
 ],
 "metadata": {
  "kernelspec": {
   "display_name": "Python 3 (ipykernel)",
   "language": "python",
   "name": "python3"
  },
  "language_info": {
   "codemirror_mode": {
    "name": "ipython",
    "version": 3
   },
   "file_extension": ".py",
   "mimetype": "text/x-python",
   "name": "python",
   "nbconvert_exporter": "python",
   "pygments_lexer": "ipython3",
   "version": "3.8.10"
  }
 },
 "nbformat": 4,
 "nbformat_minor": 2
}
