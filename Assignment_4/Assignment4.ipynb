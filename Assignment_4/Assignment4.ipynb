{
 "cells": [
  {
   "attachments": {},
   "cell_type": "markdown",
   "metadata": {
    "id": "CglCcCF6kXDi"
   },
   "source": [
    "# SNLP Assignment 4 - The Plagues of N-Gram Modelling\n",
    "\n",
    "Name 1: William LaCroix<br/>\n",
    "Student id 1: 7038732<br/>\n",
    "Email 1: williamplacroix@gmail.com<br/>\n",
    "\n",
    "\n",
    "Name 2: Nicholas Jennings<br/>\n",
    "Student id 2: 2573492<br/>\n",
    "Email 2: s8nijenn@stud.uni-saarland.de<br/>  \n",
    "\n",
    "**Instructions:** Read each question carefully. <br/>\n",
    "Make sure you appropriately comment your code wherever required. Your final submission should contain the completed Notebook and the respective Python files for any additional exercises necessary. There is no need to submit the data files should they exist. <br/>\n",
    "Upload the zipped folder on CMS. Please follow the naming convention of **Name1_studentID1_Name2_studentID2.zip**. Make sure to click on \"Turn-in\" (or the equivalent on CMS) after your upload your submission, otherwise the assignment will not be considered as submitted. Only one member of the group should make the submisssion.\n",
    "\n",
    "---"
   ]
  },
  {
   "attachments": {},
   "cell_type": "markdown",
   "metadata": {
    "id": "NzS2w_A6kXgI"
   },
   "source": [
    "# The Plague of OOVs (5)\n",
    "\n",
    "Out-Of-Vocabulary words or OOVs are a major problem for any language model because of insufficent data and/or the emergence of new words. Let's see how this affects our statistical models. \n",
    "\n",
    "1. What happpens to the perplexity when there is an OOV in the evaluation sentence? (0.5 points)\n",
    "\n",
    "\n",
    "2. The go-to solution for modelling OOVs in the N-gram setting is to introduce a new `<unk>` token in the vocabulary for all unknown words. The `<unk>` token replaces all OOVs and is then modelled like any other word. (4 points)\n",
    "    - Split your data into train:test datasets using a 70:30 ratio. (0.5 points) \n",
    "    - Complete the function to create a vocabulary with the *top_n* most frequent words in the train set. (0.5 points)\n",
    "    - Complete the function that restricts a corpus into the given vocabulary. (1 point)\n",
    "    -  Vary *top_n* and plot how the OOV rate for the test set changes with an increase in the size of the vocabulary (use a log-log scale). What do you observe? (2 points)\n",
    "  \n",
    "\n",
    "3. A very common practice is to build the vocabulary using all words that occur twice or more in the training data. Why would we restict the vocabulary if OOVs are a headache in the first place? (0.5 points)\n",
    "\n",
    "\n"
   ]
  },
  {
   "cell_type": "markdown",
   "source": [],
   "metadata": {
    "collapsed": false
   }
  },
  {
   "cell_type": "code",
<<<<<<< HEAD
   "source": [
    "from collections import Counter\n",
    "import oov\n",
    "from importlib import reload\n",
    "oov=reload(oov)\n",
    "import numpy as np\n",
    "\n",
    "#Loading the WSJ treebank, Implement preprocessing\n",
    "corpus=oov.load_and_preprocess_data()\n",
    "\n",
    "#Implement corpus splitting. Do not randomize anything here.\n",
    "train,test=oov.train_test_split(corpus)\n",
    "\n",
    "train_rates = []\n",
    "test_rates = []\n",
    "\n",
    "for top_n in np.linspace(100,5000,10,dtype=int):\n",
    "  # Create Vocabulary with most popular words in the train set\n",
    "  vocab=oov.make_vocab(train,top_n)\n",
    "\n",
    "\n",
    "  # Force the train data and test data into this vocabulary by replacement with '<unk>'\n",
    "  vocabulary_restricted_train=oov.restrict_vocab(train,vocab)\n",
    "  vocabulary_restricted_test=oov.restrict_vocab(test,vocab)\n",
    "\n",
    "  train_oov_rate = oov.oov_rate(vocabulary_restricted_train)\n",
    "  test_oov_rate = oov.oov_rate(vocabulary_restricted_test)\n",
    "\n",
    "  train_rates.append(train_oov_rate)\n",
    "  test_rates.append(test_oov_rate)\n",
    "\n"
   ],
=======
   "execution_count": 8,
>>>>>>> a1ff7f290719253ba6341c3a41048fdffa24c8d9
   "metadata": {
    "ExecuteTime": {
<<<<<<< HEAD
     "end_time": "2023-05-24T17:37:33.727080500Z",
     "start_time": "2023-05-24T17:37:17.391472800Z"
    }
   },
   "execution_count": 15,
=======
     "end_time": "2023-05-24T16:06:46.446847200Z",
     "start_time": "2023-05-24T16:06:33.420202300Z"
    },
    "id": "-VdNEPSFkolX"
   },
>>>>>>> a1ff7f290719253ba6341c3a41048fdffa24c8d9
   "outputs": [
    {
     "name": "stderr",
     "output_type": "stream",
     "text": [
      "[nltk_data] Downloading package treebank to\n",
      "[nltk_data]     C:\\Users\\Nicho\\AppData\\Roaming\\nltk_data...\n",
      "[nltk_data]   Package treebank is already up-to-date!\n"
     ]
    }
   ]
  },
  {
   "cell_type": "code",
   "execution_count": 16,
   "outputs": [
    {
     "data": {
      "text/plain": "<matplotlib.legend.Legend at 0x25b250aead0>"
     },
     "execution_count": 16,
     "metadata": {},
     "output_type": "execute_result"
    },
    {
     "data": {
      "text/plain": "<Figure size 640x480 with 1 Axes>",
      "image/png": "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"
     },
     "metadata": {},
     "output_type": "display_data"
    }
   ],
   "source": [
<<<<<<< HEAD
    "import matplotlib.pyplot as plt\n",
    "plt.figure(\"plot\")\n",
    "plt.loglog(train_rates, label=\"train oov rate\")\n",
    "plt.loglog(test_rates, label=\"test oov rate\")\n",
    "plt.legend()"
   ],
   "metadata": {
    "collapsed": false,
    "ExecuteTime": {
     "end_time": "2023-05-24T17:37:34.449622800Z",
     "start_time": "2023-05-24T17:37:33.726086400Z"
    }
   }
  },
  {
   "cell_type": "markdown",
   "source": [
    "At lower vocab sizes, the test oov error rate is only slightly higher than the train oov rate, however as the vocab size increases difference between train and test error grows. The test oov rate falls at roughly the same rate throughout the graph, while test rate falls more sharply as the vocab size increases."
   ],
   "metadata": {
    "collapsed": false
   }
=======
    "from collections import Counter\n",
    "import oov\n",
    "from importlib import reload\n",
    "oov=reload(oov)\n",
    "import numpy as np\n",
    "\n",
    "#Loading the WSJ treebank, Implement preprocessing\n",
    "corpus=oov.load_and_preprocess_data()\n",
    "\n",
    "#Implement corpus splitting. Do not randomize anything here.\n",
    "train,test=oov.train_test_split(corpus)\n",
    "\n",
    "for top_n in np.linspace(100,5000,10,dtype=int):\n",
    "  # Create Vocabulary with most popular words in the train set\n",
    "  vocab=oov.make_vocab(train,top_n)\n",
    "\n",
    "\n",
    "  # Force the train data and test data into this vocabulary by replacement with '<unk>'\n",
    "  vocabulary_restricted_train=oov.restrict_vocab(train,vocab)\n",
    "  vocabulary_restricted_test=oov.restrict_vocab(test,vocab)\n",
    "  print(top_n ,vocabulary_restricted_train[0])\n",
    "\n",
    "  # TODO: Find and plot the oov rate. Use loglog axes. \n"
   ]
>>>>>>> a1ff7f290719253ba6341c3a41048fdffa24c8d9
  },
  {
   "attachments": {},
   "cell_type": "markdown",
   "metadata": {
    "id": "IeOMNq7vkelL"
   },
   "source": [
    "# The Plague of Unseen N-Grams (5 points)\n",
    "\n",
    "A major and very common issue with N-gram modelling is the estimation of probabilities for ngram sequences that are unobserved in the training data. The most popular technique to tackle unseen ngrams is to smooth the MLE distribution. We will deal with more complicated smoothing techniques later in the course, but let's look at a rudimentary smoothing technique called Laplace Smoothing. You can look it up in the [Jurafsky Book](https://web.stanford.edu/~jurafsky/slp3/old_dec21/3.pdf) \n",
    "\n",
    "The idea of Laplace smoothing is simple: You add a count of alpha to all existing bigram counts in the corpus. Consequently, you \"pretend\" that you observed the previously unseen ngrams **once**. For intuition, you can look at Figures 3.1 and 3.6 in the Jurafsky book. Your task now is to implement a Bigram model with add-one smoothing. \n",
    "\n",
    "1. The main task is to complete the `BigramModel` class in `smoothed_lm.py`. Finish the functions to count ngrams and compute the Laplace smoothed probability for a given bigram. (2 points)\n",
    "\n",
    "2. Now calculate the average perplexity on the test set. You can start conditional probabilitity estimations from the second word (pay attention to the consequent normalization factor for perplexity). Use vocabulary-restricted train and test sets. Use a top_5000 vocabulary. (2 point).\n",
    "\n",
    "3. What happens when you vary alpha in the range 0-1? Why is this smoothing inefficient? (1 point)"
   ]
  },
  {
   "cell_type": "code",
   "execution_count": null,
   "metadata": {
    "id": "Ep0lhFg2kup0"
   },
   "outputs": [],
   "source": [
    "import smoothed_lm \n",
    "from importlib import reload\n",
    "smoothed_lm=reload(smoothed_lm)\n",
    "\n",
    "# Create Vocabulary with most popular 5000 words in the train set\n",
    "vocab=oov.make_vocab(train,5000)\n",
    "\n",
    "# Force the train data and test data into the vocabulry\n",
    "vocabulary_restricted_train=oov.restrict_vocab(train,vocab)\n",
    "vocabulary_restricted_test=oov.restrict_vocab(test,vocab)\n",
    "\n",
    "\n",
    "#Complete the class\n",
    "model=smoothed_lm.BigramModel(vocabulary_restricted_train,vocabulary_restricted_test,alpha=0.5)\n",
    "\n",
    "#Calculate Average test perplexity\n",
    "model.perplexity()"
<<<<<<< HEAD
   ],
   "metadata": {
    "id": "Ep0lhFg2kup0",
    "ExecuteTime": {
     "end_time": "2023-05-24T17:37:34.709115800Z",
     "start_time": "2023-05-24T17:37:34.451617600Z"
    }
   },
   "execution_count": 17,
   "outputs": [
    {
     "ename": "NameError",
     "evalue": "name 'List' is not defined",
     "output_type": "error",
     "traceback": [
      "\u001B[1;31m---------------------------------------------------------------------------\u001B[0m",
      "\u001B[1;31mNameError\u001B[0m                                 Traceback (most recent call last)",
      "Cell \u001B[1;32mIn[17], line 1\u001B[0m\n\u001B[1;32m----> 1\u001B[0m \u001B[38;5;28;01mimport\u001B[39;00m \u001B[38;5;21;01msmoothed_lm\u001B[39;00m \n\u001B[0;32m      2\u001B[0m \u001B[38;5;28;01mfrom\u001B[39;00m \u001B[38;5;21;01mimportlib\u001B[39;00m \u001B[38;5;28;01mimport\u001B[39;00m reload\n\u001B[0;32m      3\u001B[0m smoothed_lm\u001B[38;5;241m=\u001B[39mreload(smoothed_lm)\n",
      "File \u001B[1;32mD:\\snlp\\SNLP-Assignments\\Assignment_4\\smoothed_lm.py:2\u001B[0m\n\u001B[0;32m      1\u001B[0m \u001B[38;5;66;03m#Add necessary imports here\u001B[39;00m\n\u001B[1;32m----> 2\u001B[0m \u001B[38;5;28;01mclass\u001B[39;00m \u001B[38;5;21;01mBigramModel\u001B[39;00m:\n\u001B[0;32m      4\u001B[0m     \u001B[38;5;28;01mdef\u001B[39;00m \u001B[38;5;21m__init__\u001B[39m(\u001B[38;5;28mself\u001B[39m, train_sents: List[List[\u001B[38;5;28mstr\u001B[39m]], test_sents: List[List[\u001B[38;5;28mstr\u001B[39m]], alpha\u001B[38;5;241m=\u001B[39m\u001B[38;5;241m0\u001B[39m):\n\u001B[0;32m      5\u001B[0m \u001B[38;5;250m        \u001B[39m\u001B[38;5;124;03m\"\"\" \u001B[39;00m\n\u001B[0;32m      6\u001B[0m \u001B[38;5;124;03m        :param train_sents: list of sents from the train section of your corpus\u001B[39;00m\n\u001B[0;32m      7\u001B[0m \u001B[38;5;124;03m        :param test_sents: list of sents from the test section of your corpus\u001B[39;00m\n\u001B[1;32m   (...)\u001B[0m\n\u001B[0;32m     11\u001B[0m \u001B[38;5;124;03m        Tips:  Try out the Counter() module from collections to Count ngrams. \u001B[39;00m\n\u001B[0;32m     12\u001B[0m \u001B[38;5;124;03m        \"\"\"\u001B[39;00m\n",
      "File \u001B[1;32mD:\\snlp\\SNLP-Assignments\\Assignment_4\\smoothed_lm.py:4\u001B[0m, in \u001B[0;36mBigramModel\u001B[1;34m()\u001B[0m\n\u001B[0;32m      2\u001B[0m \u001B[38;5;28;01mclass\u001B[39;00m \u001B[38;5;21;01mBigramModel\u001B[39;00m:\n\u001B[1;32m----> 4\u001B[0m     \u001B[38;5;28;01mdef\u001B[39;00m \u001B[38;5;21m__init__\u001B[39m(\u001B[38;5;28mself\u001B[39m, train_sents: \u001B[43mList\u001B[49m[List[\u001B[38;5;28mstr\u001B[39m]], test_sents: List[List[\u001B[38;5;28mstr\u001B[39m]], alpha\u001B[38;5;241m=\u001B[39m\u001B[38;5;241m0\u001B[39m):\n\u001B[0;32m      5\u001B[0m \u001B[38;5;250m        \u001B[39m\u001B[38;5;124;03m\"\"\" \u001B[39;00m\n\u001B[0;32m      6\u001B[0m \u001B[38;5;124;03m        :param train_sents: list of sents from the train section of your corpus\u001B[39;00m\n\u001B[0;32m      7\u001B[0m \u001B[38;5;124;03m        :param test_sents: list of sents from the test section of your corpus\u001B[39;00m\n\u001B[1;32m   (...)\u001B[0m\n\u001B[0;32m     11\u001B[0m \u001B[38;5;124;03m        Tips:  Try out the Counter() module from collections to Count ngrams. \u001B[39;00m\n\u001B[0;32m     12\u001B[0m \u001B[38;5;124;03m        \"\"\"\u001B[39;00m\n\u001B[0;32m     13\u001B[0m         \u001B[38;5;28mself\u001B[39m\u001B[38;5;241m.\u001B[39malpha \u001B[38;5;241m=\u001B[39m alpha\n",
      "\u001B[1;31mNameError\u001B[0m: name 'List' is not defined"
     ]
    }
=======
>>>>>>> a1ff7f290719253ba6341c3a41048fdffa24c8d9
   ]
  },
  {
   "attachments": {},
   "cell_type": "markdown",
   "metadata": {
    "id": "5I-CCLXwkiLJ"
   },
   "source": [
    "# Bonus Question - Alternate tokenizations for OOV handling (2 points)\n",
    "\n",
    "We saw in the first part that the OOV issue can be mitigated by using the `<unk>` token. Another option to deal with the OOV problem is to change your tokenization schema by making it more granular. A very popular method along these lines is subword modelling. The idea here is simple: you tokenize your sentence into a sequence of sub-words and subsequently span your vocabulary across all possible subwords in the corpus. This makes sure that there is no OOV in the test set, since new words are still composed of the subwords in your vocabulary. \n",
    "\n",
    "\n",
    "1. Tokenize the corpus using character-level tokenization and compute the perplexity of the resulting bigram model. (0.5 points)\n",
    "\n",
    "2. Extend this to another tokenization scheme: The very popular [Byte-Pair Encoding](https://huggingface.co/learn/nlp-course/chapter6/5?fw=pt) schema used these days. You can use Huggingface's [GPT2Tokenizer](https://huggingface.co/transformers/v3.0.2/model_doc/gpt2.html#gpt2tokenizer) to do this.  Find the resulting bigram model perplexity. (0.5 points)\n",
    "\n",
    "3. Can you compare these perplexities? In general, is it okay to compare perplexities when we use different tokenization schemes? (1 point)\n"
   ]
  },
  {
   "cell_type": "code",
   "execution_count": 1,
   "metadata": {
    "ExecuteTime": {
     "end_time": "2023-05-24T13:10:37.422146400Z",
     "start_time": "2023-05-24T13:10:34.704934Z"
    },
    "colab": {
     "base_uri": "https://localhost:8080/"
    },
    "id": "cDhRg3MumGIr",
    "outputId": "5c18de18-5a43-45a7-b21f-723868aaf7c7"
   },
   "outputs": [
    {
     "name": "stdout",
     "output_type": "stream",
     "text": [
      "Requirement already satisfied: transformers in d:\\snlp\\venv\\lib\\site-packages (4.29.2)\n",
      "Requirement already satisfied: filelock in d:\\snlp\\venv\\lib\\site-packages (from transformers) (3.12.0)\n",
      "Requirement already satisfied: huggingface-hub<1.0,>=0.14.1 in d:\\snlp\\venv\\lib\\site-packages (from transformers) (0.14.1)\n",
      "Requirement already satisfied: numpy>=1.17 in d:\\snlp\\venv\\lib\\site-packages (from transformers) (1.24.3)\n",
      "Requirement already satisfied: packaging>=20.0 in d:\\snlp\\venv\\lib\\site-packages (from transformers) (23.1)\n",
      "Requirement already satisfied: pyyaml>=5.1 in d:\\snlp\\venv\\lib\\site-packages (from transformers) (6.0)\n",
      "Requirement already satisfied: regex!=2019.12.17 in d:\\snlp\\venv\\lib\\site-packages (from transformers) (2023.5.5)\n",
      "Requirement already satisfied: requests in d:\\snlp\\venv\\lib\\site-packages (from transformers) (2.30.0)\n",
      "Requirement already satisfied: tokenizers!=0.11.3,<0.14,>=0.11.1 in d:\\snlp\\venv\\lib\\site-packages (from transformers) (0.13.3)\n",
      "Requirement already satisfied: tqdm>=4.27 in d:\\snlp\\venv\\lib\\site-packages (from transformers) (4.65.0)\n",
      "Requirement already satisfied: fsspec in d:\\snlp\\venv\\lib\\site-packages (from huggingface-hub<1.0,>=0.14.1->transformers) (2023.5.0)\n",
      "Requirement already satisfied: typing-extensions>=3.7.4.3 in d:\\snlp\\venv\\lib\\site-packages (from huggingface-hub<1.0,>=0.14.1->transformers) (4.5.0)\n",
      "Requirement already satisfied: colorama in d:\\snlp\\venv\\lib\\site-packages (from tqdm>=4.27->transformers) (0.4.6)\n",
      "Requirement already satisfied: charset-normalizer<4,>=2 in d:\\snlp\\venv\\lib\\site-packages (from requests->transformers) (3.1.0)\n",
      "Requirement already satisfied: idna<4,>=2.5 in d:\\snlp\\venv\\lib\\site-packages (from requests->transformers) (3.4)\n",
      "Requirement already satisfied: urllib3<3,>=1.21.1 in d:\\snlp\\venv\\lib\\site-packages (from requests->transformers) (2.0.2)\n",
      "Requirement already satisfied: certifi>=2017.4.17 in d:\\snlp\\venv\\lib\\site-packages (from requests->transformers) (2023.5.7)\n"
     ]
    }
   ],
   "source": [
    "!pip install transformers"
   ]
  }
 ],
 "metadata": {
  "colab": {
   "provenance": []
  },
  "kernelspec": {
   "display_name": "venv",
   "language": "python",
   "name": "venv"
  },
  "language_info": {
   "name": "python"
  }
 },
 "nbformat": 4,
 "nbformat_minor": 0
}
