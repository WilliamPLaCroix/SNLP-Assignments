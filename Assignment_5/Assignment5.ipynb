{
  "cells": [
    {
      "attachments": {},
      "cell_type": "markdown",
      "metadata": {
        "id": "kLJnh3mUN_O_"
      },
      "source": [
        "# SNLP Assignment 5 \n",
        "\n",
        "Name 1: William LaCroix<br/>\n",
        "Student id 1: 7038732<br/>\n",
        "Email 1: williamplacroix@gmail.com<br/>\n",
        "\n",
        "\n",
        "Name 2: Nicholas Jennings<br/>\n",
        "Student id 2: 2573492<br/>\n",
        "Email 2: s8nijenn@stud.uni-saarland.de<br/>\n",
        "\n",
        "**Instructions:** Read each question carefully. <br/>\n",
        "Make sure you appropriately comment your code wherever required. Your final submission should contain the completed Notebook and the respective Python files for any additional exercises necessary. There is no need to submit the data files should they exist. <br/>\n",
        "Upload the zipped folder on CMS. Please follow the naming convention of **Name1_studentID1_Name2_studentID2.zip**. Make sure to click on \"Turn-in\" (or the equivalent on CMS) after your upload your submission, otherwise the assignment will not be considered as submitted. Only one member of the group should make the submisssion.\n",
        "\n",
        "---"
      ]
    },
    {
      "attachments": {},
      "cell_type": "markdown",
      "metadata": {
        "id": "eDvPIUircPZW"
      },
      "source": [
        "# Exercise 1: Back-Off and Interpolation (5 points) </br>\n",
        "\n",
        "In Assignment 4, we implemented a simple smoothing technique by presuming counts where they did not exist. A more informed version of smoothing is to look into lower order n-grams when we see novel word combinations. There are two popular ways of doing this: Katz backoff and linear interpolation. \n",
        "\n",
        "\n",
        "1. Look these terms up and describe how they differ in 3-4 sentences (0.5 points)\n",
        "\n",
        "2. We generally use cross validation to determine the hyperparameters used in these models. Describe k-fold cross validation in your own words (0.5 points)\n",
        "\n",
        "3. Let's implement an interpolated ngram model. Write a Language model class that trains an ngram model on a training corpus ```(List[List[str]])``` and computes the perplexity on a test corpus ```(List[List[str]])```. Use add-$\\alpha$ smoothing and interpolation weights of $\\lambda_i=\\frac{1}{n}, \\forall i \\in \\{1\\dots n\\}$ where $n$ is the order of the model. As usual, you will need to account for OOV tokens with ```<unk>```. Use the top_5000 words for vocabulary. You may reuse code from Asignment 4. (2 points)\n",
        "\n",
        "4. Find the optimal $\\alpha$ for smoothing and the optimal n-gram order using 5-fold cross validation (independently).  (2 points)\n",
        "\n",
        "We expect you to make some design choices yourself. Please document them appropriately."
      ]
    },
    {
      "attachments": {},
      "cell_type": "markdown",
      "metadata": {},
      "source": [
        "### Answers Exercise 1:\n",
        "\n",
        "1. Linear interpolation vs Katz backoff\n",
        "- Linear interpolation works by a linear combination of the weighted probabilities for n-grams with various history lengths. Weights must be greater than 0, and sum to 1.\n",
        "- Katz backoff is non-linear backoff model that iterates through progressively shorter histories, until the count of the seen history is above a given threashold level. As opposed to linear interpolation, Katz backoff gives a single weighted probability, depending on the n-gram order, rather than a linear combination of the various probabilities.\n",
        "\n",
        "2. K-fold cross validation divides the dataset into k (1 > k > n) equally sized pieces. The model is then iteratively trained, reserving a new 'fold' each iteration, and the model's performance is averaged across k training runs. Larger values of k reserve smaller sections of data for the test set, up to n (LOO-CV). Iterating over unique test sets helps avoid poor model performance due to an unpredictable skew in the test data sample.\n",
        "\n",
        "4. Based on the 5-fold average perplexities, it seems like the bigram probability with low alpha (alpha = 0.1) performed the best out of the various models. The unigram model performed the worst by far, and the higher order n-gram models performed less well. Performance also increased with low alphas for every model except for the unigram model, where performance decreased with low alphas."
      ]
    },
    {
      "cell_type": "code",
      "execution_count": 1,
      "metadata": {
        "colab": {
          "base_uri": "https://localhost:8080/"
        },
        "id": "jTk6N86uqT1m",
        "outputId": "78179d4c-d0e0-484f-e4c4-b7a0a52ff3f0"
      },
      "outputs": [
        {
          "name": "stderr",
          "output_type": "stream",
          "text": [
            "c:\\Users\\William\\AppData\\Local\\Programs\\Python\\Python38\\lib\\site-packages\\numpy\\_distributor_init.py:30: UserWarning: loaded more than 1 DLL from .libs:\n",
            "c:\\Users\\William\\AppData\\Local\\Programs\\Python\\Python38\\lib\\site-packages\\numpy\\.libs\\libopenblas.XWYDX2IKJW2NMTWSFYNGFUWKQU3LYTCZ.gfortran-win_amd64.dll\n",
            "c:\\Users\\William\\AppData\\Local\\Programs\\Python\\Python38\\lib\\site-packages\\numpy\\.libs\\libopenblas64__v0.3.21-gcc_10_3_0.dll\n",
            "  warnings.warn(\"loaded more than 1 DLL from .libs:\"\n"
          ]
        },
        {
          "name": "stdout",
          "output_type": "stream",
          "text": [
            "5-fold average perplexity for model order 1 with alpha 0.0 : 1036.3643295752868\n",
            "5-fold average perplexity for model order 1 with alpha 0.1 : 813.3934855898478\n",
            "5-fold average perplexity for model order 1 with alpha 0.2 : 792.6692817160132\n",
            "5-fold average perplexity for model order 1 with alpha 0.3 : 780.4366586316086\n",
            "5-fold average perplexity for model order 1 with alpha 0.4 : 771.7540035986101\n",
            "5-fold average perplexity for model order 1 with alpha 0.5 : 765.0740697617263\n",
            "5-fold average perplexity for model order 1 with alpha 0.6 : 759.7017870464472\n",
            "5-fold average perplexity for model order 1 with alpha 0.7 : 755.2611526359049\n",
            "5-fold average perplexity for model order 1 with alpha 0.8 : 751.5237611294458\n",
            "5-fold average perplexity for model order 1 with alpha 0.9 : 748.3393548211901\n",
            "5-fold average perplexity for model order 1 with alpha 1.0 : 745.6031639608207\n",
            "5-fold average perplexity for model order 2 with alpha 0.0 : 0.013202991760208033\n",
            "5-fold average perplexity for model order 2 with alpha 0.1 : 9.868443855322045\n",
            "5-fold average perplexity for model order 2 with alpha 0.2 : 18.90757246791615\n",
            "5-fold average perplexity for model order 2 with alpha 0.3 : 27.528475822749908\n",
            "5-fold average perplexity for model order 2 with alpha 0.4 : 35.831201377443314\n",
            "5-fold average perplexity for model order 2 with alpha 0.5 : 43.87039914057515\n",
            "5-fold average perplexity for model order 2 with alpha 0.6 : 51.68223756820352\n",
            "5-fold average perplexity for model order 2 with alpha 0.7 : 59.293050921418924\n",
            "5-fold average perplexity for model order 2 with alpha 0.8 : 66.72314770393237\n",
            "5-fold average perplexity for model order 2 with alpha 0.9 : 73.98880583363994\n",
            "5-fold average perplexity for model order 2 with alpha 1.0 : 81.10344082330327\n",
            "5-fold average perplexity for model order 3 with alpha 0.0 : 0.019472367849155438\n",
            "5-fold average perplexity for model order 3 with alpha 0.1 : 14.393686300821685\n",
            "5-fold average perplexity for model order 3 with alpha 0.2 : 27.408753937660986\n",
            "5-fold average perplexity for model order 3 with alpha 0.3 : 39.70023689906922\n",
            "5-fold average perplexity for model order 3 with alpha 0.4 : 51.44295818561828\n",
            "5-fold average perplexity for model order 3 with alpha 0.5 : 62.735000688987654\n",
            "5-fold average perplexity for model order 3 with alpha 0.6 : 73.64180510483162\n",
            "5-fold average perplexity for model order 3 with alpha 0.7 : 84.21103525110789\n",
            "5-fold average perplexity for model order 3 with alpha 0.8 : 94.47933462531611\n",
            "5-fold average perplexity for model order 3 with alpha 0.9 : 104.47593718917842\n",
            "5-fold average perplexity for model order 3 with alpha 1.0 : 114.22480743845804\n",
            "5-fold average perplexity for model order 4 with alpha 0.0 : 0.0261878004211964\n",
            "5-fold average perplexity for model order 4 with alpha 0.1 : 19.166247782178267\n",
            "5-fold average perplexity for model order 4 with alpha 0.2 : 36.283680453464875\n",
            "5-fold average perplexity for model order 4 with alpha 0.3 : 52.3055726453601\n",
            "5-fold average perplexity for model order 4 with alpha 0.4 : 67.50311031937773\n",
            "5-fold average perplexity for model order 4 with alpha 0.5 : 82.02985917892345\n",
            "5-fold average perplexity for model order 4 with alpha 0.6 : 95.98817137897845\n",
            "5-fold average perplexity for model order 4 with alpha 0.7 : 109.45227861040094\n",
            "5-fold average perplexity for model order 4 with alpha 0.8 : 122.47894845452893\n",
            "5-fold average perplexity for model order 4 with alpha 0.9 : 135.1132197936413\n",
            "5-fold average perplexity for model order 4 with alpha 1.0 : 147.39181171748766\n",
            "5-fold average perplexity for model order 5 with alpha 0.0 : 0.03233445330447367\n",
            "5-fold average perplexity for model order 5 with alpha 0.1 : 23.503053618589586\n",
            "5-fold average perplexity for model order 5 with alpha 0.2 : 44.26828704123989\n",
            "5-fold average perplexity for model order 5 with alpha 0.3 : 63.55972527352566\n",
            "5-fold average perplexity for model order 5 with alpha 0.4 : 81.75201381732542\n",
            "5-fold average perplexity for model order 5 with alpha 0.5 : 99.05746187105407\n",
            "5-fold average perplexity for model order 5 with alpha 0.6 : 115.61697041296745\n",
            "5-fold average perplexity for model order 5 with alpha 0.7 : 131.53218520465833\n",
            "5-fold average perplexity for model order 5 with alpha 0.8 : 146.88041922788378\n",
            "5-fold average perplexity for model order 5 with alpha 0.9 : 161.72269431980837\n",
            "5-fold average perplexity for model order 5 with alpha 1.0 : 176.10851701972973\n"
          ]
        }
      ],
      "source": [
        "import exercise_1\n",
        "from importlib import reload\n",
        "exercise_1 = reload(exercise_1)\n",
        "import numpy as np\n",
        "\n",
        "MAX_N = 5\n",
        "MAX_ALPHA = 1\n",
        "ALPHA_STEPS = 11\n",
        "\n",
        "corpus = exercise_1.load_and_preprocess_data()\n",
        "\n",
        "# restrict the vocabulary to the top 5000 words\n",
        "\n",
        "\n",
        "#implement cross validation to find optimal n and alpha. You might want to do this independently.\n",
        "ns: list = []\n",
        "alphas: list = []\n",
        "perplexities: list = []\n",
        "restricted_corpus = exercise_1.restrict_vocab(corpus)\n",
        "\n",
        "for n in range(1, MAX_N+1): # for each model order from n = 1 to n = 5\n",
        "    for alpha in np.linspace(0.0001, MAX_ALPHA, ALPHA_STEPS): # for each alpha between 0 and 1\n",
        "        temp_perplexities:list = []\n",
        "        for split in range(5): # for each split in k=5 fold cross validation\n",
        "            start: int = split*len(restricted_corpus)//5\n",
        "            stop: int = (split + 1)*len(restricted_corpus)//5\n",
        "            train,test = exercise_1.split_corpus(restricted_corpus, start, stop)\n",
        "            model = exercise_1.InterpolatedModel(train, test, order=n, alpha=alpha)\n",
        "            temp_perplexities.append(model.perplexity())\n",
        "            #Calculate test perplexity\n",
        "        model_perplexity = np.mean(temp_perplexities)\n",
        "        ns.append(n)\n",
        "        alphas.append(alpha)\n",
        "        perplexities.append(model_perplexity)\n",
        "        print(\"5-fold average perplexity for model order\", n, \"with alpha\", round(alpha,3), \":\", model_perplexity)"
      ]
    },
    {
      "cell_type": "code",
      "execution_count": 2,
      "metadata": {},
      "outputs": [
        {
          "data": {
            "image/png": "[encoded data removed]",
            "text/plain": [
              "<Figure size 640x480 with 1 Axes>"
            ]
          },
          "metadata": {},
          "output_type": "display_data"
        },
        {
          "data": {
            "image/png": "[encoded data removed]",
            "text/plain": [
              "<Figure size 640x480 with 1 Axes>"
            ]
          },
          "metadata": {},
          "output_type": "display_data"
        }
      ],
      "source": [
        "import matplotlib.pyplot as plt\n",
        "plt.scatter(ns, perplexities, marker=\"^\")\n",
        "plt.ylabel(\"Perplexity\")\n",
        "plt.xlabel(\"n\")\n",
        "plt.title(\"Perplexity by n value (1-5)\")\n",
        "plt.show()\n",
        "plt.scatter(alphas, perplexities, marker=\"^\")\n",
        "plt.ylabel(\"Perplexity\")\n",
        "plt.xlabel(\"alpha\")\n",
        "plt.title(\"Perplexity by alpha value (0-1)\")\n",
        "plt.show()"
      ]
    },
    {
      "attachments": {},
      "cell_type": "markdown",
      "metadata": {
        "id": "BMTXgBYllGVO"
      },
      "source": [
        "## Exercise 2: Kneser-Ney Smoothing (5 points)\n",
        "\n",
        "\n",
        "Consider the following notation\n",
        "\n",
        "\n",
        "- $V$ - LM vocabulary\n",
        "-  $N (x)$ - count of the n-gram x in the training corpus \n",
        "- $N_+(\\bullet w) \\triangleq |\\{u : N (u, w) > 0\\}|$ - number of bigram types ending in w\n",
        "- $N_+(w \\bullet) \\triangleq |\\{u : N (w, u) > 0\\}|$ - number of bigram types starting with w\n",
        "- $N_+(\\bullet w \\bullet) \\triangleq |\\{(u,v) : N (u, w, u) > 0\\}|$ - number of trigram types with w in the middle\n",
        "\n",
        "This exercise aims to provide a basic understanding of Kneser-Ney Smoothing. Kneser-Ney Smoothing makes use of *continuation counts* of words for lower order n-grams, given as\n",
        "\n",
        "\\begin{equation}\n",
        "C_{KN} = \n",
        "\\begin{cases}\n",
        "\\text{count}(\\bullet) & \\text{for highest order} \\\\\n",
        "\\text{continuationcount}(\\bullet) & \\text{for lower orders}\n",
        "\\end{cases}\n",
        "\\end{equation}\n",
        "\n",
        "\n",
        "For a trigram model, Kneser-Ney Smoothing is implemented using the following equations:\n",
        "\n",
        "$$P_{KN}(w_3|w_1, w_2) = \\frac{\\max\\{N(w_1 w_2 w_3)-d,0\\}}{N(w_1 w_2)} + \\lambda(w_1, w_2)P_{KN}(w_3|w_2)$$\n",
        "\n",
        "$$P_{KN}(w_3|w_2) = \\frac{\\max\\{N_{+}(\\bullet w_2 w_3)-d,0\\}}{N_{+}(\\bullet w_2 \\bullet)} + \\lambda(w_2)P_{KN}(w_3)$$\n",
        "\n",
        "\\begin{equation}\n",
        "P_{KN}(w_3) = \\begin{cases}\n",
        "\\frac{N_{+}(\\bullet w_3)}{N_{+}(\\bullet \\bullet)} & \\text{if $w_3 \\in$ V} \\\\\n",
        "\\frac{1}{V} & \\text{otherwise}\n",
        "\\end{cases}\n",
        "\\end{equation}\n",
        "\n",
        "$\\lambda$ is used to normalise the discounted probability mass and is given by\n",
        "\n",
        "$$\\lambda(w_1, w_2) = \\frac{d}{N(w_1 w_2)} \\cdot N_{+}(w_1 w_2 \\bullet)$$\n",
        "\n",
        "$$\\lambda(w_2) = \\frac{d}{N(w_2)} \\cdot N_{+}(w_2 \\bullet)$$\n",
        "\n",
        "\n",
        "1. Explain the main intuition behind Kneser-Ney language models and discuss how it is\n",
        "different from absolute discounting LMs [1 point]\n",
        "\n",
        "2. Assume that we make a trigram model from [alice_in_wonderland.txt](https://gist.github.com/phillipj/4944029). Preprocess the text by first removing all punctuation, lowercasing, and then tokenisation. There is no need to split the data into train and test sets. (0.5 points)\n",
        "\n",
        "3. Code a function that calculates the bigram probability $P_{KN}(w_3|w_2)$ using the equations provided. The discounting parameter d = 0.75. Use your function to calculate the probabilities $P_{KN}(nothing|said)$ and $P_{KN}(nichts|said)$. (2 points)\n",
        "\n",
        "4. Manually compute the MLE and the Add-1 probabilities for the same bigrams. How do these compare to Kneser-Ney smoothing? (1 point)"
      ]
    },
    {
      "attachments": {},
      "cell_type": "markdown",
      "metadata": {},
      "source": [
        "### Answer Exercise 2:\n",
        "\n",
        "1. Absolute discounting subtracts a fixed value from the count of each n-gram in order to shift probability mass. Kneser-Ney smoothing uses modified discounting values based on the count of occurrences of unique words in the history. A 'continuation count'"
      ]
    },
    {
      "cell_type": "code",
      "execution_count": 10,
      "metadata": {
        "id": "qKCweesLqY0i"
      },
      "outputs": [
        {
          "name": "stdout",
          "output_type": "stream",
          "text": [
            "['alices', 'adventures', 'in', 'wonderland', 'alices', 'adventures', 'in', 'wonderland', 'lewis', 'carroll', 'the', 'millennium', 'fulcrum', 'edition', '30', 'chapter', 'i', 'down', 'the', 'rabbithole', 'alice', 'was', 'beginning', 'to', 'get', 'very', 'tired', 'of', 'sitting', 'by', 'her', 'sister', 'on', 'the', 'bank', 'and', 'of', 'having', 'nothing', 'to', 'do', 'once', 'or', 'twice', 'she', 'had', 'peeped', 'into', 'the', 'book', 'her', 'sister', 'was', 'reading', 'but', 'it', 'had', 'no', 'pictures', 'or', 'conversations', 'in', 'it', 'and', 'what', 'is', 'the', 'use', 'of', 'a', 'book', 'thought', 'alice', 'without', 'pictures', 'or', 'conversation', 'so', 'she', 'was', 'considering', 'in', 'her', 'own', 'mind', 'as', 'well', 'as', 'she', 'could', 'for', 'the', 'hot', 'day', 'made', 'her', 'feel', 'very', 'sleepy', 'and']\n"
          ]
        }
      ],
      "source": [
        "from importlib import reload\n",
        "import exercise_2\n",
        "exercise_2=reload(exercise_2)\n",
        "\n",
        "text=open('alice_in_wonderland.txt').read()\n",
        "tokenized_text=exercise_2.preprocess_text(text)\n",
        "print(tokenized_text[:100])\n",
        "\n",
        "\n",
        "#Feel free to not use a class. This is just boilerplate.\n",
        "#BigramCounter = exercise_2.KneserNeyCounter(args)\n",
        "#BigramCounter.prob(bigram) \n"
      ]
    },
    {
      "attachments": {},
      "cell_type": "markdown",
      "metadata": {
        "id": "cJWA44qR5k8o"
      },
      "source": [
        "# Bonus Question: Good Turing Smoothing (2 points)"
      ]
    },
    {
      "attachments": {},
      "cell_type": "markdown",
      "metadata": {
        "id": "BIr09Uu1lKUw"
      },
      "source": [
        "\n",
        "We know that Add-alpha discounting is not very efficient since it takes away too much probability mass for distribution. A better alternative is Good-Turing smoothing, whoch distributes probbaility mass for a lower order ngram from immediately higher ngrams. \n",
        "\n",
        "1. Describe the central idea behind Good-Turing smoothing and state the formulas for Good Turing counts and Good Turing probability. (0.5)\n",
        "\n",
        "2. Given some fixed history, How much probability mass is set aside when we use Good Turing counts? Express this mathematically. (1 point) \n",
        "\n",
        "   \n",
        "3. What is the main problem with Good Turing estimation? (0.5)\n"
      ]
    },
    {
      "attachments": {},
      "cell_type": "markdown",
      "metadata": {},
      "source": [
        "### Answers Bonus:\n",
        "\n",
        "1. Good-Turing Smoothing reestimates count frequencies for zero- and low-count n-grams based on the number of n-grams with higher counts.\n",
        "\n",
        "2. The set-aside mass is given by:\n",
        "$\\alpha (h)=\\frac{n_1}{N}$</br>\n",
        "Where $n_r$ is the number of n-grams with count $r$, $N$ is the total number of tokens in the training set, $h$ is the context/history.\n",
        "\n",
        "3. The main problem with Good-Turing estimation is that the revised estimated counts contain an n-gram count in the denominator, and since most counts will tend toward zero with increasing values of $r$, there will be many zero-counts, leading to a lot of undefined behaviour. Good old Katz came to the rescue again though, proposing a cutoff threshold preventing zero-counts from messing with our definition of division."
      ]
    }
  ],
  "metadata": {
    "colab": {
      "provenance": []
    },
    "kernelspec": {
      "display_name": "Python 3",
      "name": "python3"
    },
    "language_info": {
      "codemirror_mode": {
        "name": "ipython",
        "version": 3
      },
      "file_extension": ".py",
      "mimetype": "text/x-python",
      "name": "python",
      "nbconvert_exporter": "python",
      "pygments_lexer": "ipython3",
      "version": "3.8.10"
    }
  },
  "nbformat": 4,
  "nbformat_minor": 0
}
