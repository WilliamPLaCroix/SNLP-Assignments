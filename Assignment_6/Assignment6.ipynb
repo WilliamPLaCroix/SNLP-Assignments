{
 "cells": [
  {
   "attachments": {},
   "cell_type": "markdown",
   "metadata": {},
   "source": [
    "# SNLP Assignment 6 - Text Classification\n",
    "\n",
    "Name 1: William LaCroix<br/>\n",
    "Student id 1: 7038732<br/>\n",
    "Email 1: williamplacroix@gmail.com<br/>\n",
    "\n",
    "\n",
    "Name 2: Nicholas Jennings<br/>\n",
    "Student id 2: 2573492<br/>\n",
    "Email 2: s8nijenn@stud.uni-saarland.de<br/>\n",
    "\n",
    "**Instructions:** Read each question carefully. <br/>\n",
    "Make sure you appropriately comment your code wherever required. Your final submission should contain the completed Notebook and the respective Python files for any additional exercises necessary. There is no need to submit the data files should they exist. <br/>\n",
    "Upload the zipped folder on CMS. Only one member of the group should make the submisssion.\n",
    "\n",
    "---"
   ]
  },
  {
   "attachments": {},
   "cell_type": "markdown",
   "metadata": {},
   "source": [
    "## <span style=\"color:red\">Sentiment Analysis</span>\n",
    "\n",
    "   - Use the [FinancialPhraseBank](https://www.kaggle.com/datasets/ankurzing/sentiment-analysis-for-financial-news) corpus with a 80:20 train test split, with a) a naive bayes b) XGBoost classifier for sentiment analysis (**2 points**)\n",
    "\n",
    "      - Naive Bayes: https://scikit-learn.org/stable/modules/naive_bayes.html\n",
    "\n",
    "      - XGBoost: https://xgboost.readthedocs.io/en/stable/index.html\n",
    "\n",
    "      - <span style=\"color:red\">Note:</span> Only use all_data.csv file for your experiments\n",
    "\n",
    "   - Use [LoughranMcDonald master dictionary](https://drive.google.com/file/d/17CmUZM9hGUdGYjCXcjQLyybjTrcjrhik/view?usp=sharing) to get word level polarity, replace words with the their corresponding polarity and now repeat the same classification task as above (**4 points**)\n",
    "\n",
    "      - What happens if you remove the stop words? \n",
    "\n",
    "      - What's the ratio of stopwords (taken from NLTK) amongst the total word count? \n",
    "\n",
    "      - Is it a good choice to do stopword removal? Explain with 2-3 examples why or why not?\n",
    "   \n",
    "   - Create cascaded Bi-Grams and tri-grams and repeat both the exercises from above. Which representation do you think is a better value in terms of accuracy and computational power required? (**3 points**)\n",
    "\n",
    "      - Bi-grams example: \n",
    "\n",
    "         - Company A barely surpassed their profit expectations.\n",
    "         \n",
    "         - (Company, A), (A, barely), (barely, surpassed), (surpassed, their) ...\n",
    "   \n",
    "   - How would you represnt the polarity in uni/bi/tri-gram models with Huffman Encoding? (**1 point**)\n",
    "\n",
    "\n",
    "### Few points to remember\n",
    "   - While splitting your dataset, use seed=42\n",
    "   - Use type hint(s) in your code, and add a docstring to your functions or classes\n",
    "   - Focus on the readability of your code, that helps us to give you better feedback on where the code went wrong\n",
    "   - <span style=\"color:red\">Do not submit the data or dictionary file.</span>"
   ]
  },
  {
   "attachments": {},
   "cell_type": "markdown",
   "metadata": {},
   "source": [
    "### Discussion:\n",
    "\n",
    "- What happens if you remove the stop words?\n",
    "    - Answer: For Naive Bayes removing stop words has no effect on accuracy, but there is an improvement of 0.06 for precision, 0.08 for recall and 0.07 for F1. For XGBoost removing improves accuracy by 0.01, precision by 0.01, recall by 0.02, and F1 by 0.02. For both models removing stopwords improves, however it is much more significant for Naive Bayes.\n",
    "\n",
    "- What's the ratio of stopwords (taken from NLTK) amongst the total word count? \n",
    "    - Answer: 35346 stopwords out of 99315 total words were removed (approx. 35.6% of total words)\n",
    "\n",
    "- Is it a good choice to do stopword removal? Explain with 2-3 examples why or why not?\n",
    "    - Answer: In general, removing stop words is good choice. For example give the following sentence with positive sentiment: \"The chain posted sales of 298 million euros for full 2005 , a rise of 19.5 percent , year-on-year .\"\n",
    "    Common words such as \"the\", \"in\", etc. that are in the NLTK english stopword list don't provide any information about the sentiment of the sentence, so removing them is the correct choice.\n",
    "    But given the negative sentence: \"Bosse added that Trygvesta does not have the financial strength to acquire the entire unit\"\n",
    "    Removing the word \"not\", which appears in the NLTK stopword list would have negative consequences for sentiment analysis as removing it changes the meaning of the sentence.\n",
    "\n",
    "  \n",
    "- How would you represnt the polarity in uni/bi/tri-gram models with Huffman Encoding? (**1 point**)\n",
    "    - Answer: In the unigram case the polarity of a word would be equivalent to a character that is to be encoded. For bi/trigrams etc. each unique polarity ngram would represent a character.  The first step would to compute the frequency of all polarity ngrams and sort them by frequency. Assuming we are dealing with unigrams and that the polarities are ranked as follows by frequency: 1.Neutral 2.Positive 3.Negative, Neutral would be encoded as 0, Positive as 11 and Negative 10. For higher order ngrams the same principal would apply with the difference that character vocabulary would be larger.\n"
   ]
  },
  {
   "cell_type": "code",
   "execution_count": 1,
   "metadata": {
    "ExecuteTime": {
     "end_time": "2023-06-08T19:50:22.821573700Z",
     "start_time": "2023-06-08T19:50:12.431852800Z"
    }
   },
   "outputs": [],
   "source": [
    "import solution\n",
    "from importlib import reload\n",
    "from sklearn.naive_bayes import MultinomialNB\n",
    "from xgboost import XGBClassifier\n"
   ]
  },
  {
   "cell_type": "code",
   "execution_count": 2,
   "metadata": {
    "ExecuteTime": {
     "end_time": "2023-06-08T19:50:23.371713700Z",
     "start_time": "2023-06-08T19:50:22.833541400Z"
    }
   },
   "outputs": [
    {
     "name": "stdout",
     "output_type": "stream",
     "text": [
      "Predicted  Negative  Neutral  Positive\n",
      "True                                  \n",
      "Negative         53       33        24\n",
      "Neutral          11      502        58\n",
      "Positive         10      115       164\n",
      "\n",
      "Baseline unpolairzed unigram Naive Bayes accuracy: 0.74\n",
      "Baseline unpolairzed unigram Naive Bayes precision: 0.57\n",
      "Baseline unpolairzed unigram Naive Bayes recall: 0.74\n",
      "Baseline unpolairzed unigram Naive Bayes F1: 0.64\n"
     ]
    }
   ],
   "source": [
    "# 1. Unigram Naive Bayes, unpolarized -> baseline NB\n",
    "solution = reload(solution)\n",
    "classification_model = MultinomialNB()\n",
    "corpus = solution.load_and_preprocess_data()\n",
    "\n",
    "y_test, y_pred = solution.train_and_fit_model(corpus, classification_model)\n",
    "\n",
    "# Get the confusion matrix from solution.py file, since it's a multi-class classification\n",
    "# Confusion matrix should give you a better idea of how well your model is performing\n",
    "# Naive Bayes classification of 3 class labels\n",
    "# NB_confusion_matrix on 3x3 matrix\n",
    "confusion_matrix = solution.calculate_confusion_matrix(y_test, y_pred)\n",
    "print(confusion_matrix)\n",
    "solution.test(confusion_matrix, classifier=\"Naive Bayes\", preprocessing=\"Baseline unpolairzed unigram\")\n"
   ]
  },
  {
   "cell_type": "code",
   "execution_count": 3,
   "metadata": {
    "ExecuteTime": {
     "end_time": "2023-06-08T19:50:25.787605200Z",
     "start_time": "2023-06-08T19:50:23.376700300Z"
    }
   },
   "outputs": [
    {
     "name": "stdout",
     "output_type": "stream",
     "text": [
      "Predicted  Negative  Neutral  Positive\n",
      "True                                  \n",
      "Negative         71       31         8\n",
      "Neutral          11      541        19\n",
      "Positive          4      123       162\n",
      "\n",
      "Baseline unpolairzed unigram XGBoost accuracy: 0.80\n",
      "Baseline unpolairzed unigram XGBoost precision: 0.56\n",
      "Baseline unpolairzed unigram XGBoost recall: 0.81\n",
      "Baseline unpolairzed unigram XGBoost F1: 0.66\n"
     ]
    }
   ],
   "source": [
    "# 2. Unigram XGBoost, unpolarized -> baseline XGBoost\n",
    "solution = reload(solution)\n",
    "classification_model = XGBClassifier()\n",
    "corpus = solution.load_and_preprocess_data()\n",
    "\n",
    "y_test, y_pred = solution.train_and_fit_model(corpus, classification_model)\n",
    "\n",
    "# Get the confusion matrix from solution.py file\n",
    "confusion_matrix = solution.calculate_confusion_matrix(y_test, y_pred)\n",
    "print(confusion_matrix)\n",
    "solution.test(confusion_matrix, classifier=\"XGBoost\", preprocessing=\"Baseline unpolairzed unigram\")"
   ]
  },
  {
   "cell_type": "code",
   "execution_count": 4,
   "metadata": {
    "ExecuteTime": {
     "end_time": "2023-06-08T19:50:27.220098400Z",
     "start_time": "2023-06-08T19:50:25.786607400Z"
    }
   },
   "outputs": [
    {
     "name": "stdout",
     "output_type": "stream",
     "text": [
      "Predicted  Negative  Neutral  Positive\n",
      "True                                  \n",
      "Negative          7       84        19\n",
      "Neutral          18      527        26\n",
      "Positive         15      234        40\n",
      "\n",
      "Polairzed unigram with stop words Naive Bayes accuracy: 0.59\n",
      "Polairzed unigram with stop words Naive Bayes precision: 0.14\n",
      "Polairzed unigram with stop words Naive Bayes recall: 0.28\n",
      "Polairzed unigram with stop words Naive Bayes F1: 0.19\n"
     ]
    }
   ],
   "source": [
    "# 3. Unigram Naive Bayes, polarized, include stop words\n",
    "solution = reload(solution)\n",
    "classification_model = MultinomialNB()\n",
    "corpus = solution.load_and_preprocess_data(polarize=True)\n",
    "\n",
    "y_test, y_pred = solution.train_and_fit_model(corpus, classification_model)\n",
    "\n",
    "# Get the confusion matrix from solution.py file\n",
    "confusion_matrix = solution.calculate_confusion_matrix(y_test, y_pred)\n",
    "print(confusion_matrix)\n",
    "solution.test(confusion_matrix, classifier=\"Naive Bayes\", preprocessing=\"Polairzed unigram with stop words\")"
   ]
  },
  {
   "cell_type": "code",
   "execution_count": 5,
   "metadata": {
    "ExecuteTime": {
     "end_time": "2023-06-08T19:50:28.408231400Z",
     "start_time": "2023-06-08T19:50:27.222093900Z"
    }
   },
   "outputs": [
    {
     "name": "stdout",
     "output_type": "stream",
     "text": [
      "total word count: 99315\n",
      "removed stopword count: 35346\n",
      "ratio 0.3558979006192418\n",
      "Predicted  Negative  Neutral  Positive\n",
      "True                                  \n",
      "Negative         11       93         6\n",
      "Neutral          21      537        13\n",
      "Positive         23      242        24\n",
      "\n",
      "Polairzed unigram without stop words Naive Bayes accuracy: 0.59\n",
      "Polairzed unigram without stop words Naive Bayes precision: 0.08\n",
      "Polairzed unigram without stop words Naive Bayes recall: 0.20\n",
      "Polairzed unigram without stop words Naive Bayes F1: 0.12\n"
     ]
    }
   ],
   "source": [
    "# 4. Unigram Naive Bayes, polarized, exclude stop words\n",
    "solution = reload(solution)\n",
    "classification_model = MultinomialNB()\n",
    "corpus = solution.load_and_preprocess_data(remove_stops=True, polarize=True)\n",
    "\n",
    "y_test, y_pred = solution.train_and_fit_model(corpus, classification_model)\n",
    "\n",
    "# Get the confusion matrix from solution.py file\n",
    "confusion_matrix = solution.calculate_confusion_matrix(y_test, y_pred)\n",
    "print(confusion_matrix)\n",
    "solution.test(confusion_matrix, classifier=\"Naive Bayes\", preprocessing=\"Polairzed unigram without stop words\")"
   ]
  },
  {
   "cell_type": "code",
   "execution_count": 6,
   "metadata": {
    "ExecuteTime": {
     "end_time": "2023-06-08T19:50:29.978086100Z",
     "start_time": "2023-06-08T19:50:28.413219200Z"
    }
   },
   "outputs": [
    {
     "name": "stdout",
     "output_type": "stream",
     "text": [
      "Predicted  Negative  Neutral  Positive\n",
      "True                                  \n",
      "Negative          9       81        20\n",
      "Neutral          11      529        31\n",
      "Positive         18      225        46\n",
      "\n",
      "Polairzed unigram with stop words XGBoost accuracy: 0.60\n",
      "Polairzed unigram with stop words XGBoost precision: 0.16\n",
      "Polairzed unigram with stop words XGBoost recall: 0.31\n",
      "Polairzed unigram with stop words XGBoost F1: 0.21\n"
     ]
    }
   ],
   "source": [
    "# 5. Unigram XGBoost, polarized, include stop words\n",
    "solution = reload(solution)\n",
    "classification_model = XGBClassifier()\n",
    "corpus = solution.load_and_preprocess_data(polarize=True)\n",
    "\n",
    "y_test, y_pred = solution.train_and_fit_model(corpus, classification_model)\n",
    "\n",
    "# Get the confusion matrix from solution.py file\n",
    "confusion_matrix = solution.calculate_confusion_matrix(y_test, y_pred)\n",
    "print(confusion_matrix)\n",
    "solution.test(confusion_matrix, classifier=\"XGBoost\", preprocessing=\"Polairzed unigram with stop words\")"
   ]
  },
  {
   "cell_type": "code",
   "execution_count": 7,
   "metadata": {
    "ExecuteTime": {
     "end_time": "2023-06-08T19:50:31.602795500Z",
     "start_time": "2023-06-08T19:50:29.979084400Z"
    }
   },
   "outputs": [
    {
     "name": "stdout",
     "output_type": "stream",
     "text": [
      "total word count: 99315\n",
      "removed stopword count: 35346\n",
      "ratio 0.3558979006192418\n",
      "Predicted  Negative  Neutral  Positive\n",
      "True                                  \n",
      "Negative          5       82        23\n",
      "Neutral           6      521        44\n",
      "Positive         12      235        42\n",
      "\n",
      "Polairzed unigram without stop words XGBoost accuracy: 0.59\n",
      "Polairzed unigram without stop words XGBoost precision: 0.15\n",
      "Polairzed unigram without stop words XGBoost recall: 0.29\n",
      "Polairzed unigram without stop words XGBoost F1: 0.19\n"
     ]
    }
   ],
   "source": [
    "# 6. Unigram XGBoost, polarized, exclude stop words\n",
    "solution = reload(solution)\n",
    "classification_model = XGBClassifier()\n",
    "corpus = solution.load_and_preprocess_data(remove_stops=True, polarize=True)\n",
    "\n",
    "y_test, y_pred = solution.train_and_fit_model(corpus, classification_model)\n",
    "\n",
    "# Get the confusion matrix from solution.py file\n",
    "confusion_matrix = solution.calculate_confusion_matrix(y_test, y_pred)\n",
    "print(confusion_matrix)\n",
    "solution.test(confusion_matrix, classifier=\"XGBoost\", preprocessing=\"Polairzed unigram without stop words\")"
   ]
  },
  {
   "cell_type": "code",
   "execution_count": 8,
   "metadata": {
    "ExecuteTime": {
     "end_time": "2023-06-08T19:50:32.800521800Z",
     "start_time": "2023-06-08T19:50:31.602795500Z"
    }
   },
   "outputs": [
    {
     "name": "stdout",
     "output_type": "stream",
     "text": [
      "Predicted  Negative  Neutral  Positive\n",
      "True                                  \n",
      "Negative         23       69        18\n",
      "Neutral          36      493        42\n",
      "Positive         51      204        34\n",
      "\n",
      "Polairzed bigram with stop words Naive Bayes accuracy: 0.57\n",
      "Polairzed bigram with stop words Naive Bayes precision: 0.12\n",
      "Polairzed bigram with stop words Naive Bayes recall: 0.28\n",
      "Polairzed bigram with stop words Naive Bayes F1: 0.17\n"
     ]
    }
   ],
   "source": [
    "# 7. Bigram Naive Bayes, polarized, include stop words\n",
    "solution = reload(solution)\n",
    "classification_model = MultinomialNB()\n",
    "corpus = solution.load_and_preprocess_data(polarize=True, ngramize=2)\n",
    "\n",
    "y_test, y_pred = solution.train_and_fit_model(corpus, classification_model)\n",
    "\n",
    "# Get the confusion matrix from solution.py file\n",
    "confusion_matrix = solution.calculate_confusion_matrix(y_test, y_pred)\n",
    "print(confusion_matrix)\n",
    "solution.test(confusion_matrix, classifier=\"Naive Bayes\", preprocessing=\"Polairzed bigram with stop words\")"
   ]
  },
  {
   "cell_type": "code",
   "execution_count": 9,
   "metadata": {
    "ExecuteTime": {
     "end_time": "2023-06-08T19:50:33.944140900Z",
     "start_time": "2023-06-08T19:50:32.774591100Z"
    }
   },
   "outputs": [
    {
     "name": "stdout",
     "output_type": "stream",
     "text": [
      "total word count: 99315\n",
      "removed stopword count: 35346\n",
      "ratio 0.3558979006192418\n",
      "Predicted  Negative  Neutral  Positive\n",
      "True                                  \n",
      "Negative         27       72        11\n",
      "Neutral          40      504        27\n",
      "Positive         52      209        28\n",
      "\n",
      "Polairzed bigram without stop words Naive Bayes accuracy: 0.58\n",
      "Polairzed bigram without stop words Naive Bayes precision: 0.10\n",
      "Polairzed bigram without stop words Naive Bayes recall: 0.25\n",
      "Polairzed bigram without stop words Naive Bayes F1: 0.14\n"
     ]
    }
   ],
   "source": [
    "# 8. Bigram Naive Bayes, polarized, exclude stop words\n",
    "solution = reload(solution)\n",
    "classification_model = MultinomialNB()\n",
    "corpus = solution.load_and_preprocess_data(remove_stops=True, polarize=True, ngramize=2)\n",
    "\n",
    "y_test, y_pred = solution.train_and_fit_model(corpus, classification_model)\n",
    "\n",
    "# Get the confusion matrix from solution.py file\n",
    "confusion_matrix = solution.calculate_confusion_matrix(y_test, y_pred)\n",
    "print(confusion_matrix)\n",
    "solution.test(confusion_matrix, classifier=\"Naive Bayes\", preprocessing=\"Polairzed bigram without stop words\")"
   ]
  },
  {
   "cell_type": "code",
   "execution_count": 10,
   "metadata": {
    "ExecuteTime": {
     "end_time": "2023-06-08T19:50:35.583542700Z",
     "start_time": "2023-06-08T19:50:33.949129700Z"
    }
   },
   "outputs": [
    {
     "name": "stdout",
     "output_type": "stream",
     "text": [
      "Predicted  Negative  Neutral  Positive\n",
      "True                                  \n",
      "Negative         16       70        24\n",
      "Neutral          21      500        50\n",
      "Positive         24      207        58\n",
      "\n",
      "Polairzed bigram with stop words XGBoost accuracy: 0.59\n",
      "Polairzed bigram with stop words XGBoost precision: 0.20\n",
      "Polairzed bigram with stop words XGBoost recall: 0.38\n",
      "Polairzed bigram with stop words XGBoost F1: 0.26\n"
     ]
    }
   ],
   "source": [
    "# 9. Bigram XGBoost, polaraized, include stop words\n",
    "solution = reload(solution)\n",
    "classification_model = XGBClassifier()\n",
    "corpus = solution.load_and_preprocess_data(polarize = True, ngramize=2)\n",
    "\n",
    "y_test, y_pred = solution.train_and_fit_model(corpus, classification_model)\n",
    "\n",
    "# Get the confusion matrix from solution.py file\n",
    "confusion_matrix = solution.calculate_confusion_matrix(y_test, y_pred)\n",
    "print(confusion_matrix)\n",
    "solution.test(confusion_matrix, classifier=\"XGBoost\", preprocessing=\"Polairzed bigram with stop words\")\n"
   ]
  },
  {
   "cell_type": "code",
   "execution_count": 11,
   "metadata": {
    "ExecuteTime": {
     "end_time": "2023-06-08T19:50:37.247152900Z",
     "start_time": "2023-06-08T19:50:35.584540800Z"
    }
   },
   "outputs": [
    {
     "name": "stdout",
     "output_type": "stream",
     "text": [
      "total word count: 99315\n",
      "removed stopword count: 35346\n",
      "ratio 0.3558979006192418\n",
      "Predicted  Negative  Neutral  Positive\n",
      "True                                  \n",
      "Negative         11       78        21\n",
      "Neutral          10      522        39\n",
      "Positive         18      208        63\n",
      "\n",
      "Polairzed bigram without stop words XGBoost accuracy: 0.61\n",
      "Polairzed bigram without stop words XGBoost precision: 0.22\n",
      "Polairzed bigram without stop words XGBoost recall: 0.39\n",
      "Polairzed bigram without stop words XGBoost F1: 0.28\n"
     ]
    }
   ],
   "source": [
    "# 10. Bigram XGBoost, polarized, exclude stop words\n",
    "solution = reload(solution)\n",
    "classification_model = XGBClassifier()\n",
    "corpus = solution.load_and_preprocess_data(remove_stops=True, polarize=True, ngramize=2)\n",
    "\n",
    "y_test, y_pred = solution.train_and_fit_model(corpus, classification_model)\n",
    "\n",
    "# Get the confusion matrix from solution.py file\n",
    "confusion_matrix = solution.calculate_confusion_matrix(y_test, y_pred)\n",
    "print(confusion_matrix)\n",
    "solution.test(confusion_matrix, classifier=\"XGBoost\", preprocessing=\"Polairzed bigram without stop words\")"
   ]
  },
  {
   "cell_type": "code",
   "execution_count": 12,
   "metadata": {
    "ExecuteTime": {
     "end_time": "2023-06-08T19:50:38.466291500Z",
     "start_time": "2023-06-08T19:50:37.247152900Z"
    }
   },
   "outputs": [
    {
     "name": "stdout",
     "output_type": "stream",
     "text": [
      "Predicted  Negative  Neutral  Positive\n",
      "True                                  \n",
      "Negative         36       59        15\n",
      "Neutral          57      459        55\n",
      "Positive         72      178        39\n",
      "\n",
      "Polairzed trigram with stop words Naive Bayes accuracy: 0.55\n",
      "Polairzed trigram with stop words Naive Bayes precision: 0.13\n",
      "Polairzed trigram with stop words Naive Bayes recall: 0.35\n",
      "Polairzed trigram with stop words Naive Bayes F1: 0.19\n"
     ]
    }
   ],
   "source": [
    "# 11. Trigram Naive Bayes, polarized, include stop words\n",
    "solution = reload(solution)\n",
    "classification_model = MultinomialNB()\n",
    "corpus = solution.load_and_preprocess_data(polarize = True, ngramize=3)\n",
    "\n",
    "y_test, y_pred = solution.train_and_fit_model(corpus, classification_model)\n",
    "\n",
    "# Get the confusion matrix from solution.py file\n",
    "confusion_matrix = solution.calculate_confusion_matrix(y_test, y_pred)\n",
    "print(confusion_matrix)\n",
    "solution.test(confusion_matrix, classifier=\"Naive Bayes\", preprocessing=\"Polairzed trigram with stop words\")"
   ]
  },
  {
   "cell_type": "code",
   "execution_count": 13,
   "metadata": {
    "ExecuteTime": {
     "end_time": "2023-06-08T19:50:39.668116300Z",
     "start_time": "2023-06-08T19:50:38.470278100Z"
    }
   },
   "outputs": [
    {
     "name": "stdout",
     "output_type": "stream",
     "text": [
      "total word count: 99315\n",
      "removed stopword count: 35346\n",
      "ratio 0.3558979006192418\n",
      "Predicted  Negative  Neutral  Positive\n",
      "True                                  \n",
      "Negative         35       64        11\n",
      "Neutral          50      492        29\n",
      "Positive         72      191        26\n",
      "\n",
      "Polairzed bigram without stop words Naive Bayes accuracy: 0.57\n",
      "Polairzed bigram without stop words Naive Bayes precision: 0.09\n",
      "Polairzed bigram without stop words Naive Bayes recall: 0.26\n",
      "Polairzed bigram without stop words Naive Bayes F1: 0.13\n"
     ]
    }
   ],
   "source": [
    "# 12. Trigram Naive Bayes, polarized, exclude stop words\n",
    "solution = reload(solution)\n",
    "classification_model = MultinomialNB()\n",
    "corpus = solution.load_and_preprocess_data(remove_stops=True, polarize=True, ngramize=3)\n",
    "\n",
    "y_test, y_pred = solution.train_and_fit_model(corpus, classification_model)\n",
    "\n",
    "# Get the confusion matrix from solution.py file\n",
    "confusion_matrix = solution.calculate_confusion_matrix(y_test, y_pred)\n",
    "print(confusion_matrix)\n",
    "solution.test(confusion_matrix, classifier=\"Naive Bayes\", preprocessing=\"Polairzed bigram without stop words\")"
   ]
  },
  {
   "cell_type": "code",
   "execution_count": 14,
   "metadata": {
    "ExecuteTime": {
     "end_time": "2023-06-08T19:50:41.458163800Z",
     "start_time": "2023-06-08T19:50:39.677093300Z"
    }
   },
   "outputs": [
    {
     "name": "stdout",
     "output_type": "stream",
     "text": [
      "Predicted  Negative  Neutral  Positive\n",
      "True                                  \n",
      "Negative         17       67        26\n",
      "Neutral          19      491        61\n",
      "Positive         25      194        70\n",
      "\n",
      "Polairzed trigram with stop words XGBoost accuracy: 0.60\n",
      "Polairzed trigram with stop words XGBoost precision: 0.24\n",
      "Polairzed trigram with stop words XGBoost recall: 0.43\n",
      "Polairzed trigram with stop words XGBoost F1: 0.31\n"
     ]
    }
   ],
   "source": [
    "# 13. Trigram XGBoost, polarized, include stop words\n",
    "solution = reload(solution)\n",
    "classification_model = XGBClassifier()\n",
    "corpus = solution.load_and_preprocess_data(polarize = True, ngramize=3)\n",
    "\n",
    "y_test, y_pred = solution.train_and_fit_model(corpus, classification_model)\n",
    "\n",
    "# Get the confusion matrix from solution.py file\n",
    "confusion_matrix = solution.calculate_confusion_matrix(y_test, y_pred)\n",
    "print(confusion_matrix)\n",
    "solution.test(confusion_matrix, classifier=\"XGBoost\", preprocessing=\"Polairzed trigram with stop words\")"
   ]
  },
  {
   "cell_type": "code",
   "execution_count": 15,
   "metadata": {
    "ExecuteTime": {
     "end_time": "2023-06-08T19:50:43.237640800Z",
     "start_time": "2023-06-08T19:50:41.464148100Z"
    }
   },
   "outputs": [
    {
     "name": "stdout",
     "output_type": "stream",
     "text": [
      "total word count: 99315\n",
      "removed stopword count: 35346\n",
      "ratio 0.3558979006192418\n",
      "Predicted  Negative  Neutral  Positive\n",
      "True                                  \n",
      "Negative         17       65        28\n",
      "Neutral          18      516        37\n",
      "Positive         27      200        62\n",
      "\n",
      "Polairzed trigram without stop words XGBoost accuracy: 0.61\n",
      "Polairzed trigram without stop words XGBoost precision: 0.21\n",
      "Polairzed trigram without stop words XGBoost recall: 0.40\n",
      "Polairzed trigram without stop words XGBoost F1: 0.28\n"
     ]
    }
   ],
   "source": [
    "# 14. Trigram XGBoost, polarized, exclude stop words\n",
    "solution = reload(solution)\n",
    "classification_model = XGBClassifier()\n",
    "corpus = solution.load_and_preprocess_data(remove_stops=True, polarize=True, ngramize=3)\n",
    "\n",
    "y_test, y_pred = solution.train_and_fit_model(corpus, classification_model)\n",
    "\n",
    "# Get the confusion matrix from solution.py file\n",
    "confusion_matrix = solution.calculate_confusion_matrix(y_test, y_pred)\n",
    "print(confusion_matrix)\n",
    "solution.test(confusion_matrix, classifier=\"XGBoost\", preprocessing=\"Polairzed trigram without stop words\")"
   ]
  },
  {
   "cell_type": "code",
   "execution_count": 15,
   "outputs": [],
   "source": [],
   "metadata": {
    "collapsed": false,
    "ExecuteTime": {
     "end_time": "2023-06-08T19:50:43.252600300Z",
     "start_time": "2023-06-08T19:50:43.238637300Z"
    }
   }
  }
 ],
 "metadata": {
  "kernelspec": {
   "name": "venv",
   "language": "python",
   "display_name": "venv"
  },
  "language_info": {
   "codemirror_mode": {
    "name": "ipython",
    "version": 3
   },
   "file_extension": ".py",
   "mimetype": "text/x-python",
   "name": "python",
   "nbconvert_exporter": "python",
   "pygments_lexer": "ipython3",
   "version": "3.8.10"
  },
  "orig_nbformat": 4,
  "vscode": {
   "interpreter": {
    "hash": "1bf99630d34a7296688ee6c5e32d155aeaeae4bf556023602f84a41a67fb9130"
   }
  }
 },
 "nbformat": 4,
 "nbformat_minor": 2
}
