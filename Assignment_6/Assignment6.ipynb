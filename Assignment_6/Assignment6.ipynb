{
 "cells": [
  {
   "attachments": {},
   "cell_type": "markdown",
   "metadata": {},
   "source": [
    "# SNLP Assignment 6 - Text Classification\n",
    "\n",
    "Name 1: William LaCroix<br/>\n",
    "Student id 1: 7038732<br/>\n",
    "Email 1: williamplacroix@gmail.com<br/>\n",
    "\n",
    "\n",
    "Name 2: Nicholas Jennings<br/>\n",
    "Student id 2: 2573492<br/>\n",
    "Email 2: s8nijenn@stud.uni-saarland.de<br/>\n",
    "\n",
    "**Instructions:** Read each question carefully. <br/>\n",
    "Make sure you appropriately comment your code wherever required. Your final submission should contain the completed Notebook and the respective Python files for any additional exercises necessary. There is no need to submit the data files should they exist. <br/>\n",
    "Upload the zipped folder on CMS. Only one member of the group should make the submisssion.\n",
    "\n",
    "---"
   ]
  },
  {
   "attachments": {},
   "cell_type": "markdown",
   "metadata": {},
   "source": [
    "## <span style=\"color:red\">Sentiment Analysis</span>\n",
    "\n",
    "   - Use the [FinancialPhraseBank](https://www.kaggle.com/datasets/ankurzing/sentiment-analysis-for-financial-news) corpus with a 80:20 train test split, with a) a naive bayes b) XGBoost classifier for sentiment analysis (**2 points**)\n",
    "\n",
    "      - Naive Bayes: https://scikit-learn.org/stable/modules/naive_bayes.html\n",
    "\n",
    "      - XGBoost: https://xgboost.readthedocs.io/en/stable/index.html\n",
    "\n",
    "      - <span style=\"color:red\">Note:</span> Only use all_data.csv file for your experiments\n",
    "\n",
    "   - Use [LoughranMcDonald master dictionary](https://drive.google.com/file/d/17CmUZM9hGUdGYjCXcjQLyybjTrcjrhik/view?usp=sharing) to get word level polarity, replace words with the their corresponding polarity and now repeat the same classification task as above (**4 points**)\n",
    "\n",
    "      - What happens if you remove the stop words? \n",
    "\n",
    "      - What's the ratio of stopwords (taken from NLTK) amongst the total word count? \n",
    "\n",
    "      - Is it a good choice to do stopword removal? Explain with 2-3 examples why or why not?\n",
    "   \n",
    "   - Create cascaded Bi-Grams and tri-grams and repeat both the exercises from above. Which representation do you think is a better value in terms of accuracy and computational power required? (**3 points**)\n",
    "\n",
    "      - Bi-grams example: \n",
    "\n",
    "         - Company A barely surpassed their profit expectations.\n",
    "         \n",
    "         - (Company, A), (A, barely), (barely, surpassed), (surpassed, their) ...\n",
    "   \n",
    "   - How would you represnt the polarity in uni/bi/tri-gram models with Huffman Encoding? (**1 point**)\n",
    "\n",
    "\n",
    "### Few points to remember\n",
    "   - While splitting your dataset, use seed=42\n",
    "   - Use type hint(s) in your code, and add a docstring to your functions or classes\n",
    "   - Focus on the readability of your code, that helps us to give you better feedback on where the code went wrong\n",
    "   - <span style=\"color:red\">Do not submit the data or dictionary file.</span>"
   ]
  },
  {
   "attachments": {},
   "cell_type": "markdown",
   "metadata": {},
   "source": [
    "### Discussion:\n",
    "\n",
    "- What happens if you remove the stop words?\n",
    "    - Answer:\n",
    "\n",
    "- What's the ratio of stopwords (taken from NLTK) amongst the total word count? \n",
    "    - Answer:\n",
    "\n",
    "- Is it a good choice to do stopword removal? Explain with 2-3 examples why or why not?\n",
    "    - Answer:\n",
    "  \n",
    "- How would you represnt the polarity in uni/bi/tri-gram models with Huffman Encoding? (**1 point**)\n",
    "    - Answer:\n"
   ]
  },
  {
   "cell_type": "code",
   "execution_count": 34,
   "metadata": {},
   "outputs": [],
   "source": [
    "import solution\n",
    "from importlib import reload\n",
    "from sklearn.naive_bayes import MultinomialNB\n",
    "from xgboost import XGBClassifier\n"
   ]
  },
  {
   "cell_type": "code",
   "execution_count": 35,
   "metadata": {},
   "outputs": [
    {
     "name": "stdout",
     "output_type": "stream",
     "text": [
      "Predicted  Negative  Neutral  Positive\n",
      "True                                  \n",
      "Negative         53       33        24\n",
      "Neutral          11      502        58\n",
      "Positive         10      115       164\n",
      "\n",
      "Baseline unpolairzed unigram Naive Bayes accuracy: 0.74\n",
      "Baseline unpolairzed unigram Naive Bayes precision: 0.57\n",
      "Baseline unpolairzed unigram Naive Bayes recall: 0.74\n",
      "Baseline unpolairzed unigram Naive Bayes F1: 0.64\n"
     ]
    }
   ],
   "source": [
    "# 1. Unigram Naive Bayes, unpolarized -> baseline NB\n",
    "solution = reload(solution)\n",
    "classification_model = MultinomialNB()\n",
    "corpus = solution.load_and_preprocess_data()\n",
    "\n",
    "y_test, y_pred = solution.train_and_fit_model(corpus, classification_model)\n",
    "\n",
    "# Get the confusion matrix from solution.py file, since it's a multi-class classification\n",
    "# Confusion matrix should give you a better idea of how well your model is performing\n",
    "# Naive Bayes classification of 3 class labels\n",
    "# NB_confusion_matrix on 3x3 matrix\n",
    "confusion_matrix = solution.calculate_confusion_matrix(y_test, y_pred)\n",
    "print(confusion_matrix)\n",
    "solution.test(confusion_matrix, classifier=\"Naive Bayes\", preprocessing=\"Baseline unpolairzed unigram\")\n"
   ]
  },
  {
   "cell_type": "code",
   "execution_count": 36,
   "metadata": {},
   "outputs": [
    {
     "name": "stdout",
     "output_type": "stream",
     "text": [
      "Predicted  Negative  Neutral  Positive\n",
      "True                                  \n",
      "Negative         71       31         8\n",
      "Neutral          11      541        19\n",
      "Positive          4      123       162\n",
      "\n",
      "Baseline unpolairzed unigram XGBoost accuracy: 0.80\n",
      "Baseline unpolairzed unigram XGBoost precision: 0.56\n",
      "Baseline unpolairzed unigram XGBoost recall: 0.81\n",
      "Baseline unpolairzed unigram XGBoost F1: 0.66\n"
     ]
    }
   ],
   "source": [
    "# 2. Unigram XGBoost, unpolarized -> baseline XGBoost\n",
    "solution = reload(solution)\n",
    "classification_model = XGBClassifier()\n",
    "corpus = solution.load_and_preprocess_data()\n",
    "\n",
    "y_test, y_pred = solution.train_and_fit_model(corpus, classification_model)\n",
    "\n",
    "# Get the confusion matrix from solution.py file\n",
    "confusion_matrix = solution.calculate_confusion_matrix(y_test, y_pred)\n",
    "print(confusion_matrix)\n",
    "solution.test(confusion_matrix, classifier=\"XGBoost\", preprocessing=\"Baseline unpolairzed unigram\")"
   ]
  },
  {
   "cell_type": "code",
   "execution_count": 37,
   "metadata": {},
   "outputs": [
    {
     "name": "stdout",
     "output_type": "stream",
     "text": [
      "Predicted  Negative  Neutral  Positive\n",
      "True                                  \n",
      "Negative          7       84        19\n",
      "Neutral          18      527        26\n",
      "Positive         15      234        40\n",
      "\n",
      "Polairzed unigram with stop words Naive Bayes accuracy: 0.59\n",
      "Polairzed unigram with stop words Naive Bayes precision: 0.14\n",
      "Polairzed unigram with stop words Naive Bayes recall: 0.28\n",
      "Polairzed unigram with stop words Naive Bayes F1: 0.19\n"
     ]
    }
   ],
   "source": [
    "# 3. Unigram Naive Bayes, polarized, include stop words\n",
    "solution = reload(solution)\n",
    "classification_model = MultinomialNB()\n",
    "corpus = solution.load_and_preprocess_data(polarize=True)\n",
    "\n",
    "y_test, y_pred = solution.train_and_fit_model(corpus, classification_model)\n",
    "\n",
    "# Get the confusion matrix from solution.py file\n",
    "confusion_matrix = solution.calculate_confusion_matrix(y_test, y_pred)\n",
    "print(confusion_matrix)\n",
    "solution.test(confusion_matrix, classifier=\"Naive Bayes\", preprocessing=\"Polairzed unigram with stop words\")"
   ]
  },
  {
   "cell_type": "code",
   "execution_count": 38,
   "metadata": {},
   "outputs": [
    {
     "name": "stdout",
     "output_type": "stream",
     "text": [
      "Predicted  Negative  Neutral  Positive\n",
      "True                                  \n",
      "Negative         11       93         6\n",
      "Neutral          21      537        13\n",
      "Positive         23      242        24\n",
      "\n",
      "Polairzed unigram without stop words Naive Bayes accuracy: 0.59\n",
      "Polairzed unigram without stop words Naive Bayes precision: 0.08\n",
      "Polairzed unigram without stop words Naive Bayes recall: 0.20\n",
      "Polairzed unigram without stop words Naive Bayes F1: 0.12\n"
     ]
    }
   ],
   "source": [
    "# 4. Unigram Naive Bayes, polarized, exclude stop words\n",
    "solution = reload(solution)\n",
    "classification_model = MultinomialNB()\n",
    "corpus = solution.load_and_preprocess_data(remove_stops=True, polarize=True)\n",
    "\n",
    "y_test, y_pred = solution.train_and_fit_model(corpus, classification_model)\n",
    "\n",
    "# Get the confusion matrix from solution.py file\n",
    "confusion_matrix = solution.calculate_confusion_matrix(y_test, y_pred)\n",
    "print(confusion_matrix)\n",
    "solution.test(confusion_matrix, classifier=\"Naive Bayes\", preprocessing=\"Polairzed unigram without stop words\")"
   ]
  },
  {
   "cell_type": "code",
   "execution_count": 39,
   "metadata": {},
   "outputs": [
    {
     "name": "stdout",
     "output_type": "stream",
     "text": [
      "Predicted  Negative  Neutral  Positive\n",
      "True                                  \n",
      "Negative          9       81        20\n",
      "Neutral          11      529        31\n",
      "Positive         18      225        46\n",
      "\n",
      "Polairzed unigram with stop words XGBoost accuracy: 0.60\n",
      "Polairzed unigram with stop words XGBoost precision: 0.16\n",
      "Polairzed unigram with stop words XGBoost recall: 0.31\n",
      "Polairzed unigram with stop words XGBoost F1: 0.21\n"
     ]
    }
   ],
   "source": [
    "# 5. Unigram XGBoost, polarized, include stop words\n",
    "solution = reload(solution)\n",
    "classification_model = XGBClassifier()\n",
    "corpus = solution.load_and_preprocess_data(polarize=True)\n",
    "\n",
    "y_test, y_pred = solution.train_and_fit_model(corpus, classification_model)\n",
    "\n",
    "# Get the confusion matrix from solution.py file\n",
    "confusion_matrix = solution.calculate_confusion_matrix(y_test, y_pred)\n",
    "print(confusion_matrix)\n",
    "solution.test(confusion_matrix, classifier=\"XGBoost\", preprocessing=\"Polairzed unigram with stop words\")"
   ]
  },
  {
   "cell_type": "code",
   "execution_count": 40,
   "metadata": {},
   "outputs": [
    {
     "name": "stdout",
     "output_type": "stream",
     "text": [
      "Predicted  Negative  Neutral  Positive\n",
      "True                                  \n",
      "Negative          5       82        23\n",
      "Neutral           6      521        44\n",
      "Positive         12      235        42\n",
      "\n",
      "Polairzed unigram without stop words XGBoost accuracy: 0.59\n",
      "Polairzed unigram without stop words XGBoost precision: 0.15\n",
      "Polairzed unigram without stop words XGBoost recall: 0.29\n",
      "Polairzed unigram without stop words XGBoost F1: 0.19\n"
     ]
    }
   ],
   "source": [
    "# 6. Unigram XGBoost, polarized, exclude stop words\n",
    "solution = reload(solution)\n",
    "classification_model = XGBClassifier()\n",
    "corpus = solution.load_and_preprocess_data(remove_stops=True, polarize=True)\n",
    "\n",
    "y_test, y_pred = solution.train_and_fit_model(corpus, classification_model)\n",
    "\n",
    "# Get the confusion matrix from solution.py file\n",
    "confusion_matrix = solution.calculate_confusion_matrix(y_test, y_pred)\n",
    "print(confusion_matrix)\n",
    "solution.test(confusion_matrix, classifier=\"XGBoost\", preprocessing=\"Polairzed unigram without stop words\")"
   ]
  },
  {
   "cell_type": "code",
   "execution_count": 41,
   "metadata": {},
   "outputs": [
    {
     "name": "stdout",
     "output_type": "stream",
     "text": [
      "Predicted  Negative  Neutral  Positive\n",
      "True                                  \n",
      "Negative         35       62        13\n",
      "Neutral          50      476        45\n",
      "Positive         65      191        33\n",
      "\n",
      "Polairzed bigram with stop words Naive Bayes accuracy: 0.56\n",
      "Polairzed bigram with stop words Naive Bayes precision: 0.11\n",
      "Polairzed bigram with stop words Naive Bayes recall: 0.31\n",
      "Polairzed bigram with stop words Naive Bayes F1: 0.17\n"
     ]
    }
   ],
   "source": [
    "# 7. Bigram Naive Bayes, polarized, include stop words\n",
    "solution = reload(solution)\n",
    "classification_model = MultinomialNB()\n",
    "corpus = solution.load_and_preprocess_data(polarize=True, ngramize=2)\n",
    "\n",
    "y_test, y_pred = solution.train_and_fit_model(corpus, classification_model)\n",
    "\n",
    "# Get the confusion matrix from solution.py file\n",
    "confusion_matrix = solution.calculate_confusion_matrix(y_test, y_pred)\n",
    "print(confusion_matrix)\n",
    "solution.test(confusion_matrix, classifier=\"Naive Bayes\", preprocessing=\"Polairzed bigram with stop words\")"
   ]
  },
  {
   "cell_type": "code",
   "execution_count": 42,
   "metadata": {},
   "outputs": [
    {
     "name": "stdout",
     "output_type": "stream",
     "text": [
      "Predicted  Negative  Neutral  Positive\n",
      "True                                  \n",
      "Negative         36       71         3\n",
      "Neutral          56      486        29\n",
      "Positive         66      200        23\n",
      "\n",
      "Polairzed bigram without stop words Naive Bayes accuracy: 0.56\n",
      "Polairzed bigram without stop words Naive Bayes precision: 0.08\n",
      "Polairzed bigram without stop words Naive Bayes recall: 0.24\n",
      "Polairzed bigram without stop words Naive Bayes F1: 0.12\n"
     ]
    }
   ],
   "source": [
    "# 8. Bigram Naive Bayes, polarized, exclude stop words\n",
    "solution = reload(solution)\n",
    "classification_model = MultinomialNB()\n",
    "corpus = solution.load_and_preprocess_data(remove_stops=True, polarize=True, ngramize=2)\n",
    "\n",
    "y_test, y_pred = solution.train_and_fit_model(corpus, classification_model)\n",
    "\n",
    "# Get the confusion matrix from solution.py file\n",
    "confusion_matrix = solution.calculate_confusion_matrix(y_test, y_pred)\n",
    "print(confusion_matrix)\n",
    "solution.test(confusion_matrix, classifier=\"Naive Bayes\", preprocessing=\"Polairzed bigram without stop words\")"
   ]
  },
  {
   "cell_type": "code",
   "execution_count": 43,
   "metadata": {},
   "outputs": [
    {
     "name": "stdout",
     "output_type": "stream",
     "text": [
      "Predicted  Negative  Neutral  Positive\n",
      "True                                  \n",
      "Negative          7       77        26\n",
      "Neutral           6      520        45\n",
      "Positive         17      220        52\n",
      "\n",
      "Polairzed bigram with stop words XGBoost accuracy: 0.60\n",
      "Polairzed bigram with stop words XGBoost precision: 0.18\n",
      "Polairzed bigram with stop words XGBoost recall: 0.34\n",
      "Polairzed bigram with stop words XGBoost F1: 0.23\n"
     ]
    }
   ],
   "source": [
    "# 9. Bigram XGBoost, polaraized, include stop words\n",
    "solution = reload(solution)\n",
    "classification_model = XGBClassifier()\n",
    "corpus = solution.load_and_preprocess_data(polarize = True, ngramize=2)\n",
    "\n",
    "y_test, y_pred = solution.train_and_fit_model(corpus, classification_model)\n",
    "\n",
    "# Get the confusion matrix from solution.py file\n",
    "confusion_matrix = solution.calculate_confusion_matrix(y_test, y_pred)\n",
    "print(confusion_matrix)\n",
    "solution.test(confusion_matrix, classifier=\"XGBoost\", preprocessing=\"Polairzed bigram with stop words\")\n"
   ]
  },
  {
   "cell_type": "code",
   "execution_count": 44,
   "metadata": {},
   "outputs": [
    {
     "name": "stdout",
     "output_type": "stream",
     "text": [
      "Predicted  Negative  Neutral  Positive\n",
      "True                                  \n",
      "Negative          9       77        24\n",
      "Neutral          13      521        37\n",
      "Positive         19      225        45\n",
      "\n",
      "Polairzed bigram without stop words XGBoost accuracy: 0.59\n",
      "Polairzed bigram without stop words XGBoost precision: 0.16\n",
      "Polairzed bigram without stop words XGBoost recall: 0.31\n",
      "Polairzed bigram without stop words XGBoost F1: 0.21\n"
     ]
    }
   ],
   "source": [
    "# 10. Bigram XGBoost, polarized, exclude stop words\n",
    "solution = reload(solution)\n",
    "classification_model = XGBClassifier()\n",
    "corpus = solution.load_and_preprocess_data(remove_stops=True, polarize=True, ngramize=2)\n",
    "\n",
    "y_test, y_pred = solution.train_and_fit_model(corpus, classification_model)\n",
    "\n",
    "# Get the confusion matrix from solution.py file\n",
    "confusion_matrix = solution.calculate_confusion_matrix(y_test, y_pred)\n",
    "print(confusion_matrix)\n",
    "solution.test(confusion_matrix, classifier=\"XGBoost\", preprocessing=\"Polairzed bigram without stop words\")"
   ]
  },
  {
   "cell_type": "code",
   "execution_count": 45,
   "metadata": {},
   "outputs": [
    {
     "name": "stdout",
     "output_type": "stream",
     "text": [
      "Predicted  Negative  Neutral  Positive\n",
      "True                                  \n",
      "Negative         40       57        13\n",
      "Neutral          72      452        47\n",
      "Positive         80      163        46\n",
      "\n",
      "Polairzed trigram with stop words Naive Bayes accuracy: 0.55\n",
      "Polairzed trigram with stop words Naive Bayes precision: 0.16\n",
      "Polairzed trigram with stop words Naive Bayes recall: 0.40\n",
      "Polairzed trigram with stop words Naive Bayes F1: 0.23\n"
     ]
    }
   ],
   "source": [
    "# 11. Trigram Naive Bayes, polarized, include stop words\n",
    "solution = reload(solution)\n",
    "classification_model = MultinomialNB()\n",
    "corpus = solution.load_and_preprocess_data(polarize = True, ngramize=3)\n",
    "\n",
    "y_test, y_pred = solution.train_and_fit_model(corpus, classification_model)\n",
    "\n",
    "# Get the confusion matrix from solution.py file\n",
    "confusion_matrix = solution.calculate_confusion_matrix(y_test, y_pred)\n",
    "print(confusion_matrix)\n",
    "solution.test(confusion_matrix, classifier=\"Naive Bayes\", preprocessing=\"Polairzed trigram with stop words\")"
   ]
  },
  {
   "cell_type": "code",
   "execution_count": 46,
   "metadata": {},
   "outputs": [
    {
     "name": "stdout",
     "output_type": "stream",
     "text": [
      "Predicted  Negative  Neutral  Positive\n",
      "True                                  \n",
      "Negative         40       60        10\n",
      "Neutral          76      463        32\n",
      "Positive         87      183        19\n",
      "\n",
      "Polairzed bigram without stop words Naive Bayes accuracy: 0.54\n",
      "Polairzed bigram without stop words Naive Bayes precision: 0.07\n",
      "Polairzed bigram without stop words Naive Bayes recall: 0.21\n",
      "Polairzed bigram without stop words Naive Bayes F1: 0.10\n"
     ]
    }
   ],
   "source": [
    "# 12. Trigram Naive Bayes, polarized, exclude stop words\n",
    "solution = reload(solution)\n",
    "classification_model = MultinomialNB()\n",
    "corpus = solution.load_and_preprocess_data(remove_stops=True, polarize=True, ngramize=3)\n",
    "\n",
    "y_test, y_pred = solution.train_and_fit_model(corpus, classification_model)\n",
    "\n",
    "# Get the confusion matrix from solution.py file\n",
    "confusion_matrix = solution.calculate_confusion_matrix(y_test, y_pred)\n",
    "print(confusion_matrix)\n",
    "solution.test(confusion_matrix, classifier=\"Naive Bayes\", preprocessing=\"Polairzed bigram without stop words\")"
   ]
  },
  {
   "cell_type": "code",
   "execution_count": 47,
   "metadata": {},
   "outputs": [
    {
     "name": "stdout",
     "output_type": "stream",
     "text": [
      "Predicted  Negative  Neutral  Positive\n",
      "True                                  \n",
      "Negative         10       71        29\n",
      "Neutral           9      503        59\n",
      "Positive         20      214        55\n",
      "\n",
      "Polairzed trigram with stop words XGBoost accuracy: 0.59\n",
      "Polairzed trigram with stop words XGBoost precision: 0.19\n",
      "Polairzed trigram with stop words XGBoost recall: 0.35\n",
      "Polairzed trigram with stop words XGBoost F1: 0.25\n"
     ]
    }
   ],
   "source": [
    "# 13. Trigram XGBoost, polarized, include stop words\n",
    "solution = reload(solution)\n",
    "classification_model = XGBClassifier()\n",
    "corpus = solution.load_and_preprocess_data(polarize = True, ngramize=3)\n",
    "\n",
    "y_test, y_pred = solution.train_and_fit_model(corpus, classification_model)\n",
    "\n",
    "# Get the confusion matrix from solution.py file\n",
    "confusion_matrix = solution.calculate_confusion_matrix(y_test, y_pred)\n",
    "print(confusion_matrix)\n",
    "solution.test(confusion_matrix, classifier=\"XGBoost\", preprocessing=\"Polairzed trigram with stop words\")"
   ]
  },
  {
   "cell_type": "code",
   "execution_count": 48,
   "metadata": {},
   "outputs": [
    {
     "name": "stdout",
     "output_type": "stream",
     "text": [
      "Predicted  Negative  Neutral  Positive\n",
      "True                                  \n",
      "Negative          9       79        22\n",
      "Neutral          13      517        41\n",
      "Positive         18      226        45\n",
      "\n",
      "Polairzed trigram without stop words XGBoost accuracy: 0.59\n",
      "Polairzed trigram without stop words XGBoost precision: 0.16\n",
      "Polairzed trigram without stop words XGBoost recall: 0.31\n",
      "Polairzed trigram without stop words XGBoost F1: 0.21\n"
     ]
    }
   ],
   "source": [
    "# 14. Trigram XGBoost, polarized, exclude stop words\n",
    "solution = reload(solution)\n",
    "classification_model = XGBClassifier()\n",
    "corpus = solution.load_and_preprocess_data(remove_stops=True, polarize=True, ngramize=3)\n",
    "\n",
    "y_test, y_pred = solution.train_and_fit_model(corpus, classification_model)\n",
    "\n",
    "# Get the confusion matrix from solution.py file\n",
    "confusion_matrix = solution.calculate_confusion_matrix(y_test, y_pred)\n",
    "print(confusion_matrix)\n",
    "solution.test(confusion_matrix, classifier=\"XGBoost\", preprocessing=\"Polairzed trigram without stop words\")"
   ]
  }
 ],
 "metadata": {
  "kernelspec": {
   "display_name": "summary",
   "language": "python",
   "name": "python3"
  },
  "language_info": {
   "codemirror_mode": {
    "name": "ipython",
    "version": 3
   },
   "file_extension": ".py",
   "mimetype": "text/x-python",
   "name": "python",
   "nbconvert_exporter": "python",
   "pygments_lexer": "ipython3",
   "version": "3.8.10"
  },
  "orig_nbformat": 4,
  "vscode": {
   "interpreter": {
    "hash": "1bf99630d34a7296688ee6c5e32d155aeaeae4bf556023602f84a41a67fb9130"
   }
  }
 },
 "nbformat": 4,
 "nbformat_minor": 2
}
