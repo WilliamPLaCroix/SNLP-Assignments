{
 "cells": [
  {
   "attachments": {},
   "cell_type": "markdown",
   "metadata": {},
   "source": [
    "# SNLP Assignment 6 - Text Classification\n",
    "\n",
    "Name 1: William LaCroix<br/>\n",
    "Student id 1: 7038732<br/>\n",
    "Email 1: williamplacroix@gmail.com<br/>\n",
    "\n",
    "\n",
    "Name 2: Nicholas Jennings<br/>\n",
    "Student id 2: 2573492<br/>\n",
    "Email 2: s8nijenn@stud.uni-saarland.de<br/>\n",
    "\n",
    "**Instructions:** Read each question carefully. <br/>\n",
    "Make sure you appropriately comment your code wherever required. Your final submission should contain the completed Notebook and the respective Python files for any additional exercises necessary. There is no need to submit the data files should they exist. <br/>\n",
    "Upload the zipped folder on CMS. Only one member of the group should make the submisssion.\n",
    "\n",
    "---"
   ]
  },
  {
   "attachments": {},
   "cell_type": "markdown",
   "metadata": {},
   "source": [
    "## <span style=\"color:red\">Sentiment Analysis</span>\n",
    "\n",
    "   - Use the [FinancialPhraseBank](https://www.kaggle.com/datasets/ankurzing/sentiment-analysis-for-financial-news) corpus with a 80:20 train test split, with a) a naive bayes b) XGBoost classifier for sentiment analysis (**2 points**)\n",
    "\n",
    "      - Naive Bayes: https://scikit-learn.org/stable/modules/naive_bayes.html\n",
    "\n",
    "      - XGBoost: https://xgboost.readthedocs.io/en/stable/index.html\n",
    "\n",
    "      - <span style=\"color:red\">Note:</span> Only use all_data.csv file for your experiments\n",
    "\n",
    "   - Use [LoughranMcDonald master dictionary](https://drive.google.com/file/d/17CmUZM9hGUdGYjCXcjQLyybjTrcjrhik/view?usp=sharing) to get word level polarity, replace words with the their corresponding polarity and now repeat the same classification task as above (**4 points**)\n",
    "\n",
    "      - What happens if you remove the stop words? \n",
    "\n",
    "      - What's the ratio of stopwords (taken from NLTK) amongst the total word count? \n",
    "\n",
    "      - Is it a good choice to do stopword removal? Explain with 2-3 examples why or why not?\n",
    "   \n",
    "   - Create cascaded Bi-Grams and tri-grams and repeat both the exercises from above. Which representation do you think is a better value in terms of accuracy and computational power required? (**3 points**)\n",
    "\n",
    "      - Bi-grams example: \n",
    "\n",
    "         - Company A barely surpassed their profit expectations.\n",
    "         \n",
    "         - (Company, A), (A, barely), (barely, surpassed), (surpassed, their) ...\n",
    "   \n",
    "   - How would you represnt the polarity in uni/bi/tri-gram models with Huffman Encoding? (**1 point**)\n",
    "\n",
    "\n",
    "### Few points to remember\n",
    "   - While splitting your dataset, use seed=42\n",
    "   - Use type hint(s) in your code, and add a docstring to your functions or classes\n",
    "   - Focus on the readability of your code, that helps us to give you better feedback on where the code went wrong\n",
    "   - <span style=\"color:red\">Do not submit the data or dictionary file.</span>"
   ]
  },
  {
   "attachments": {},
   "cell_type": "markdown",
   "metadata": {},
   "source": [
    "### Discussion:\n",
    "\n",
    "- What happens if you remove the stop words?\n",
    "    - Answer:\n",
    "\n",
    "- What's the ratio of stopwords (taken from NLTK) amongst the total word count? \n",
    "    - Answer:\n",
    "\n",
    "- Is it a good choice to do stopword removal? Explain with 2-3 examples why or why not?\n",
    "    - Answer:\n",
    "  \n",
    "- How would you represnt the polarity in uni/bi/tri-gram models with Huffman Encoding? (**1 point**)\n",
    "    - Answer:\n"
   ]
  },
  {
   "cell_type": "code",
   "execution_count": 8,
   "metadata": {},
   "outputs": [],
   "source": [
    "import solution\n",
    "from importlib import reload\n",
    "from sklearn.naive_bayes import MultinomialNB\n",
    "import xgboost as xgb\n"
   ]
  },
  {
   "cell_type": "code",
   "execution_count": 23,
   "metadata": {},
   "outputs": [
    {
     "name": "stdout",
     "output_type": "stream",
     "text": [
      "          0                                                  1\n",
      "0   neutral  according to gran the company has no plans to ...\n",
      "1   neutral  technopolis plans to develop in stages an area...\n",
      "2  negative  the international electronic industry company ...\n",
      "3  positive  with the new production plant the company woul...\n",
      "4  positive  according to the company s updated strategy fo...\n"
     ]
    },
    {
     "ename": "KeyboardInterrupt",
     "evalue": "",
     "output_type": "error",
     "traceback": [
      "\u001b[1;31m---------------------------------------------------------------------------\u001b[0m",
      "\u001b[1;31mKeyboardInterrupt\u001b[0m                         Traceback (most recent call last)",
      "Cell \u001b[1;32mIn[23], line 6\u001b[0m\n\u001b[0;32m      3\u001b[0m classification_model \u001b[39m=\u001b[39m MultinomialNB()\n\u001b[0;32m      4\u001b[0m corpus \u001b[39m=\u001b[39m solution\u001b[39m.\u001b[39mload_and_preprocess_data()\n\u001b[1;32m----> 6\u001b[0m y_test, y_pred \u001b[39m=\u001b[39m solution\u001b[39m.\u001b[39mtrain_and_fit_model(corpus, classification_model)\n\u001b[0;32m      8\u001b[0m \u001b[39m# Get the confusion matrix from solution.py file, since it's a multi-class classification\u001b[39;00m\n\u001b[0;32m      9\u001b[0m \u001b[39m# Confusion matrix should give you a better idea of how well your model is performing\u001b[39;00m\n\u001b[0;32m     10\u001b[0m \u001b[39m# Naive Bayes classification of 3 class labels\u001b[39;00m\n\u001b[0;32m     11\u001b[0m \u001b[39m# NB_confusion_matrix on 3x3 matrix\u001b[39;00m\n\u001b[0;32m     12\u001b[0m confusion_matrix \u001b[39m=\u001b[39m solution\u001b[39m.\u001b[39mconfusion_matrix(y_test, y_pred)\n",
      "\u001b[1;31mKeyboardInterrupt\u001b[0m: "
     ]
    }
   ],
   "source": [
    "# 1. Unigram Naive Bayes, unpolarized -> baseline NB\n",
    "solution = reload(solution)\n",
    "classification_model = MultinomialNB()\n",
    "corpus = solution.load_and_preprocess_data()\n",
    "\n",
    "y_test, y_pred = solution.train_and_fit_model(corpus, classification_model)\n",
    "\n",
    "# Get the confusion matrix from solution.py file, since it's a multi-class classification\n",
    "# Confusion matrix should give you a better idea of how well your model is performing\n",
    "# Naive Bayes classification of 3 class labels\n",
    "# NB_confusion_matrix on 3x3 matrix\n",
    "confusion_matrix = solution.confusion_matrix(y_test, y_pred)\n",
    "print(confusion_matrix)\n",
    "solution.test(confusion_matrix, classifier=\"Naive Bayes\", preprocessing=\"Baseline unpolairzed unigram\")\n"
   ]
  },
  {
   "cell_type": "code",
   "execution_count": 21,
   "metadata": {},
   "outputs": [
    {
     "name": "stdout",
     "output_type": "stream",
     "text": [
      "Predicted   0    1    2  All\n",
      "True                        \n",
      "0          58   40   10  108\n",
      "1          16  543   36  595\n",
      "2          10   94  163  267\n",
      "All        84  677  209  970\n",
      "\n",
      "Unpolairzed unigram XGBoost accuracy: 0.5893333333333334\n",
      "Unpolairzed unigram XGBoost precision: 0.6104868913857678\n",
      "Unpolairzed unigram XGBoost recall: 0.7652582159624414\n",
      "Unpolairzed unigram XGBoost F1: 0.6791666666666667\n"
     ]
    }
   ],
   "source": [
    "# 2. Unigram XGBoost, unpolarized -> baseline XGBoost\n",
    "solution = reload(solution)\n",
    "classification_model = xgb.XGBClassifier()\n",
    "corpus = solution.load_and_preprocess_data()\n",
    "\n",
    "# replace labels with numbers for XGBoost classifier\n",
    "corpus[0] = corpus[0].replace(\"positive\", 2)\n",
    "corpus[0] = corpus[0].replace(\"neutral\", 1)\n",
    "corpus[0] = corpus[0].replace(\"negative\", 0)\n",
    "\n",
    "y_test, y_pred = solution.train_and_fit_model(corpus, classification_model)\n",
    "\n",
    "# Get the confusion matrix from solution.py file\n",
    "confusion_matrix = solution.confusion_matrix(y_test, y_pred)\n",
    "print(confusion_matrix)\n",
    "solution.test(confusion_matrix, classifier=\"XGBoost\", preprocessing=\"Baseline unpolairzed unigram\")"
   ]
  },
  {
   "cell_type": "code",
   "execution_count": null,
   "metadata": {},
   "outputs": [],
   "source": [
    "# 3. Unigram Naive Bayes, polarized, include stop words\n",
    "solution = reload(solution)\n",
    "classification_model = MultinomialNB()\n",
    "corpus = solution.load_and_preprocess_data()\n",
    "\n",
    "#TODO polarize corpus\n",
    "\n",
    "y_test, y_pred = solution.train_and_fit_model(corpus, classification_model)\n",
    "\n",
    "# Get the confusion matrix from solution.py file\n",
    "confusion_matrix = solution.confusion_matrix(y_test, y_pred)\n",
    "print(confusion_matrix)\n",
    "solution.test(confusion_matrix, classifier=\"Naive Bayes\", preprocessing=\"Polairzed unigram with stop words\")"
   ]
  },
  {
   "cell_type": "code",
   "execution_count": null,
   "metadata": {},
   "outputs": [],
   "source": [
    "# 4. Unigram Naive Bayes, polarized, exclude stop words\n",
    "solution = reload(solution)\n",
    "classification_model = MultinomialNB()\n",
    "corpus = solution.load_and_preprocess_data()\n",
    "\n",
    "#TODO remove stop words\n",
    "\n",
    "#TODO polarize corpus\n",
    "\n",
    "y_test, y_pred = solution.train_and_fit_model(corpus, classification_model)\n",
    "\n",
    "# Get the confusion matrix from solution.py file\n",
    "confusion_matrix = solution.confusion_matrix(y_test, y_pred)\n",
    "print(confusion_matrix)\n",
    "solution.test(confusion_matrix, classifier=\"Naive Bayes\", preprocessing=\"Polairzed unigram without stop words\")"
   ]
  },
  {
   "cell_type": "code",
   "execution_count": null,
   "metadata": {},
   "outputs": [],
   "source": [
    "# 5. Unigram XGBoost, polarized, include stop words\n",
    "solution = reload(solution)\n",
    "classification_model = xgb.XGBClassifier()\n",
    "corpus = solution.load_and_preprocess_data()\n",
    "\n",
    "#TODO polarize corpus\n",
    "\n",
    "# replace labels with numbers for XGBoost classifier\n",
    "corpus[0] = corpus[0].replace(\"positive\", 2)\n",
    "corpus[0] = corpus[0].replace(\"neutral\", 1)\n",
    "corpus[0] = corpus[0].replace(\"negative\", 0)\n",
    "\n",
    "y_test, y_pred = solution.train_and_fit_model(corpus, classification_model)\n",
    "\n",
    "# Get the confusion matrix from solution.py file\n",
    "confusion_matrix = solution.confusion_matrix(y_test, y_pred)\n",
    "print(confusion_matrix)\n",
    "solution.test(confusion_matrix, classifier=\"XGBoost\", preprocessing=\"Polairzed unigram with stop words\")"
   ]
  },
  {
   "cell_type": "code",
   "execution_count": null,
   "metadata": {},
   "outputs": [],
   "source": [
    "# 6. Unigram XGBoost, polarized, exclude stop words\n",
    "solution = reload(solution)\n",
    "classification_model = xgb.XGBClassifier()\n",
    "corpus = solution.load_and_preprocess_data()\n",
    "\n",
    "#TODO remove stop words\n",
    "\n",
    "#TODO polarize corpus\n",
    "\n",
    "# replace labels with numbers for XGBoost classifier\n",
    "corpus[0] = corpus[0].replace(\"positive\", 2)\n",
    "corpus[0] = corpus[0].replace(\"neutral\", 1)\n",
    "corpus[0] = corpus[0].replace(\"negative\", 0)\n",
    "\n",
    "y_test, y_pred = solution.train_and_fit_model(corpus, classification_model)\n",
    "\n",
    "# Get the confusion matrix from solution.py file\n",
    "confusion_matrix = solution.confusion_matrix(y_test, y_pred)\n",
    "print(confusion_matrix)\n",
    "solution.test(confusion_matrix, classifier=\"XGBoost\", preprocessing=\"Polairzed unigram without stop words\")"
   ]
  },
  {
   "cell_type": "code",
   "execution_count": null,
   "metadata": {},
   "outputs": [],
   "source": [
    "# 7. Bigram Naive Bayes, polarized, include stop words\n",
    "solution = reload(solution)\n",
    "classification_model = MultinomialNB()\n",
    "corpus = solution.load_and_preprocess_data()\n",
    "\n",
    "#TODO polarize corpus\n",
    "\n",
    "#TODO bigramize corpus\n",
    "\n",
    "y_test, y_pred = solution.train_and_fit_model(corpus, classification_model)\n",
    "\n",
    "# Get the confusion matrix from solution.py file\n",
    "confusion_matrix = solution.confusion_matrix(y_test, y_pred)\n",
    "print(confusion_matrix)\n",
    "solution.test(confusion_matrix, classifier=\"Naive Bayes\", preprocessing=\"Polairzed bigram with stop words\")"
   ]
  },
  {
   "cell_type": "code",
   "execution_count": null,
   "metadata": {},
   "outputs": [],
   "source": [
    "# 8. Bigram Naive Bayes, polarized, exclude stop words\n",
    "solution = reload(solution)\n",
    "classification_model = MultinomialNB()\n",
    "corpus = solution.load_and_preprocess_data()\n",
    "\n",
    "#TODO remove stop words\n",
    "\n",
    "#TODO polarize corpus\n",
    "\n",
    "#TODO bigramize corpus\n",
    "\n",
    "y_test, y_pred = solution.train_and_fit_model(corpus, classification_model)\n",
    "\n",
    "# Get the confusion matrix from solution.py file\n",
    "confusion_matrix = solution.confusion_matrix(y_test, y_pred)\n",
    "print(confusion_matrix)\n",
    "solution.test(confusion_matrix, classifier=\"Naive Bayes\", preprocessing=\"Polairzed bigram without stop words\")"
   ]
  },
  {
   "cell_type": "code",
   "execution_count": null,
   "metadata": {},
   "outputs": [],
   "source": [
    "# 9. Bigram XGBoost, polaraized, include stop words\n",
    "solution = reload(solution)\n",
    "classification_model = xgb.XGBClassifier()\n",
    "corpus = solution.load_and_preprocess_data()\n",
    "\n",
    "#TODO polarize corpus\n",
    "\n",
    "#TODO bigramize corpus\n",
    "\n",
    "# replace labels with numbers for XGBoost classifier\n",
    "corpus[0] = corpus[0].replace(\"positive\", 2)\n",
    "corpus[0] = corpus[0].replace(\"neutral\", 1)\n",
    "corpus[0] = corpus[0].replace(\"negative\", 0)\n",
    "\n",
    "y_test, y_pred = solution.train_and_fit_model(corpus, classification_model)\n",
    "\n",
    "# Get the confusion matrix from solution.py file\n",
    "confusion_matrix = solution.confusion_matrix(y_test, y_pred)\n",
    "print(confusion_matrix)\n",
    "solution.test(confusion_matrix, classifier=\"XGBoost\", preprocessing=\"Polairzed bigram with stop words\")\n"
   ]
  },
  {
   "cell_type": "code",
   "execution_count": null,
   "metadata": {},
   "outputs": [],
   "source": [
    "# 10. Bigram XGBoost, polarized, exclude stop words\n",
    "solution = reload(solution)\n",
    "classification_model = xgb.XGBClassifier()\n",
    "corpus = solution.load_and_preprocess_data()\n",
    "\n",
    "#TODO remove stop words\n",
    "\n",
    "#TODO polarize corpus\n",
    "\n",
    "#TODO bigramize corpus\n",
    "\n",
    "# replace labels with numbers for XGBoost classifier\n",
    "corpus[0] = corpus[0].replace(\"positive\", 2)\n",
    "corpus[0] = corpus[0].replace(\"neutral\", 1)\n",
    "corpus[0] = corpus[0].replace(\"negative\", 0)\n",
    "\n",
    "y_test, y_pred = solution.train_and_fit_model(corpus, classification_model)\n",
    "\n",
    "# Get the confusion matrix from solution.py file\n",
    "confusion_matrix = solution.confusion_matrix(y_test, y_pred)\n",
    "print(confusion_matrix)\n",
    "solution.test(confusion_matrix, classifier=\"XGBoost\", preprocessing=\"Polairzed bigram without stop words\")"
   ]
  },
  {
   "cell_type": "code",
   "execution_count": null,
   "metadata": {},
   "outputs": [],
   "source": [
    "# 11. Trigram Naive Bayes, polarized, include stop words\n",
    "solution = reload(solution)\n",
    "classification_model = MultinomialNB()\n",
    "corpus = solution.load_and_preprocess_data()\n",
    "\n",
    "#TODO polarize corpus\n",
    "\n",
    "#TODO trigramize corpus\n",
    "\n",
    "y_test, y_pred = solution.train_and_fit_model(corpus, classification_model)\n",
    "\n",
    "# Get the confusion matrix from solution.py file\n",
    "confusion_matrix = solution.confusion_matrix(y_test, y_pred)\n",
    "print(confusion_matrix)\n",
    "solution.test(confusion_matrix, classifier=\"Naive Bayes\", preprocessing=\"Polairzed trigram with stop words\")"
   ]
  },
  {
   "cell_type": "code",
   "execution_count": null,
   "metadata": {},
   "outputs": [],
   "source": [
    "# 12. Trigram Naive Bayes, polarized, exclude stop words\n",
    "solution = reload(solution)\n",
    "classification_model = MultinomialNB()\n",
    "corpus = solution.load_and_preprocess_data()\n",
    "\n",
    "#TODO remove stop words\n",
    "\n",
    "#TODO polarize corpus\n",
    "\n",
    "#TODO bigramize corpus\n",
    "\n",
    "y_test, y_pred = solution.train_and_fit_model(corpus, classification_model)\n",
    "\n",
    "# Get the confusion matrix from solution.py file\n",
    "confusion_matrix = solution.confusion_matrix(y_test, y_pred)\n",
    "print(confusion_matrix)\n",
    "solution.test(confusion_matrix, classifier=\"Naive Bayes\", preprocessing=\"Polairzed bigram without stop words\")"
   ]
  },
  {
   "cell_type": "code",
   "execution_count": null,
   "metadata": {},
   "outputs": [],
   "source": [
    "# 13. Trigram XGBoost, polarized, include stop words\n",
    "solution = reload(solution)\n",
    "classification_model = xgb.XGBClassifier()\n",
    "corpus = corpus.copy()\n",
    "\n",
    "#TODO polarize corpus\n",
    "\n",
    "#TODO trigramize corpus\n",
    "\n",
    "# replace labels with numbers for XGBoost classifier\n",
    "corpus[0] = corpus[0].replace(\"positive\", 2)\n",
    "corpus[0] = corpus[0].replace(\"neutral\", 1)\n",
    "corpus[0] = corpus[0].replace(\"negative\", 0)\n",
    "\n",
    "y_test, y_pred = solution.train_and_fit_model(corpus, classification_model)\n",
    "\n",
    "# Get the confusion matrix from solution.py file\n",
    "confusion_matrix = solution.confusion_matrix(y_test, y_pred)\n",
    "print(confusion_matrix)\n",
    "solution.test(confusion_matrix, classifier=\"XGBoost\", preprocessing=\"Polairzed trigram with stop words\")"
   ]
  },
  {
   "cell_type": "code",
   "execution_count": null,
   "metadata": {},
   "outputs": [],
   "source": [
    "# 14. Trigram XGBoost, polarized, exclude stop words\n",
    "solution = reload(solution)\n",
    "classification_model = xgb.XGBClassifier()\n",
    "corpus = corpus.copy()\n",
    "\n",
    "#TODO remove stop words\n",
    "\n",
    "#TODO polarize corpus\n",
    "\n",
    "#TODO trigramize corpus\n",
    "\n",
    "# replace labels with numbers for XGBoost classifier\n",
    "corpus[0] = corpus[0].replace(\"positive\", 2)\n",
    "corpus[0] = corpus[0].replace(\"neutral\", 1)\n",
    "corpus[0] = corpus[0].replace(\"negative\", 0)\n",
    "\n",
    "y_test, y_pred = solution.train_and_fit_model(corpus, classification_model)\n",
    "\n",
    "# Get the confusion matrix from solution.py file\n",
    "confusion_matrix = solution.confusion_matrix(y_test, y_pred)\n",
    "print(confusion_matrix)\n",
    "solution.test(confusion_matrix, classifier=\"XGBoost\", preprocessing=\"Polairzed trigram without stop words\")"
   ]
  }
 ],
 "metadata": {
  "kernelspec": {
   "display_name": "summary",
   "language": "python",
   "name": "python3"
  },
  "language_info": {
   "codemirror_mode": {
    "name": "ipython",
    "version": 3
   },
   "file_extension": ".py",
   "mimetype": "text/x-python",
   "name": "python",
   "nbconvert_exporter": "python",
   "pygments_lexer": "ipython3",
   "version": "3.8.10"
  },
  "orig_nbformat": 4,
  "vscode": {
   "interpreter": {
    "hash": "1bf99630d34a7296688ee6c5e32d155aeaeae4bf556023602f84a41a67fb9130"
   }
  }
 },
 "nbformat": 4,
 "nbformat_minor": 2
}
