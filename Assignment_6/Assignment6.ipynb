{
 "cells": [
  {
   "attachments": {},
   "cell_type": "markdown",
   "metadata": {},
   "source": [
    "# SNLP Assignment 6 - Text Classification\n",
    "\n",
    "Name 1: William LaCroix<br/>\n",
    "Student id 1: 7038732<br/>\n",
    "Email 1: williamplacroix@gmail.com<br/>\n",
    "\n",
    "\n",
    "Name 2: Nicholas Jennings<br/>\n",
    "Student id 2: 2573492<br/>\n",
    "Email 2: s8nijenn@stud.uni-saarland.de<br/>\n",
    "\n",
    "**Instructions:** Read each question carefully. <br/>\n",
    "Make sure you appropriately comment your code wherever required. Your final submission should contain the completed Notebook and the respective Python files for any additional exercises necessary. There is no need to submit the data files should they exist. <br/>\n",
    "Upload the zipped folder on CMS. Only one member of the group should make the submisssion.\n",
    "\n",
    "---"
   ]
  },
  {
   "attachments": {},
   "cell_type": "markdown",
   "metadata": {},
   "source": [
    "## <span style=\"color:red\">Sentiment Analysis</span>\n",
    "\n",
    "   - Use the [FinancialPhraseBank](https://www.kaggle.com/datasets/ankurzing/sentiment-analysis-for-financial-news) corpus with a 80:20 train test split, with a) a naive bayes b) XGBoost classifier for sentiment analysis (**2 points**)\n",
    "\n",
    "      - Naive Bayes: https://scikit-learn.org/stable/modules/naive_bayes.html\n",
    "\n",
    "      - XGBoost: https://xgboost.readthedocs.io/en/stable/index.html\n",
    "\n",
    "      - <span style=\"color:red\">Note:</span> Only use all_data.csv file for your experiments\n",
    "\n",
    "   - Use [LoughranMcDonald master dictionary](https://drive.google.com/file/d/17CmUZM9hGUdGYjCXcjQLyybjTrcjrhik/view?usp=sharing) to get word level polarity, replace words with the their corresponding polarity and now repeat the same classification task as above (**4 points**)\n",
    "\n",
    "      - What happens if you remove the stop words? \n",
    "\n",
    "      - What's the ratio of stopwords (taken from NLTK) amongst the total word count? \n",
    "\n",
    "      - Is it a good choice to do stopword removal? Explain with 2-3 examples why or why not?\n",
    "   \n",
    "   - Create cascaded Bi-Grams and tri-grams and repeat both the exercises from above. Which representation do you think is a better value in terms of accuracy and computational power required? (**3 points**)\n",
    "\n",
    "      - Bi-grams example: \n",
    "\n",
    "         - Company A barely surpassed their profit expectations.\n",
    "         \n",
    "         - (Company, A), (A, barely), (barely, surpassed), (surpassed, their) ...\n",
    "   \n",
    "   - How would you represnt the polarity in uni/bi/tri-gram models with Huffman Encoding? (**1 point**)\n",
    "\n",
    "\n",
    "### Few points to remember\n",
    "   - While splitting your dataset, use seed=42\n",
    "   - Use type hint(s) in your code, and add a docstring to your functions or classes\n",
    "   - Focus on the readability of your code, that helps us to give you better feedback on where the code went wrong\n",
    "   - <span style=\"color:red\">Do not submit the data or dictionary file.</span>"
   ]
  },
  {
   "attachments": {},
   "cell_type": "markdown",
   "metadata": {},
   "source": []
  },
  {
   "cell_type": "code",
   "execution_count": 4,
   "metadata": {},
   "outputs": [
    {
     "name": "stdout",
     "output_type": "stream",
     "text": [
      "[['n', 'e', 'u', 't', 'r', 'a', 'l', 'a', 'c', 'c', 'o', 'r', 'd', 'i', 'n', 'g', 't', 'o', 'g', 'r', 'a', 'n', 't', 'h', 'e', 'c', 'o', 'm', 'p', 'a', 'n', 'y', 'h', 'a', 's', 'n', 'o', 'p', 'l', 'a', 'n', 's', 't', 'o', 'm', 'o', 'v', 'e', 'a', 'l', 'l', 'p', 'r', 'o', 'd', 'u', 'c', 't', 'i', 'o', 'n', 't', 'o', 'r', 'u', 's', 's', 'i', 'a', 'a', 'l', 't', 'h', 'o', 'u', 'g', 'h', 't', 'h', 'a', 't', 'i', 's', 'w', 'h', 'e', 'r', 'e', 't', 'h', 'e', 'c', 'o', 'm', 'p', 'a', 'n', 'y', 'i', 's', 'g', 'r', 'o', 'w', 'i', 'n', 'g'], ['n', 'e', 'u', 't', 'r', 'a', 'l', 't', 'e', 'c', 'h', 'n', 'o', 'p', 'o', 'l', 'i', 's', 'p', 'l', 'a', 'n', 's', 't', 'o', 'd', 'e', 'v', 'e', 'l', 'o', 'p', 'i', 'n', 's', 't', 'a', 'g', 'e', 's', 'a', 'n', 'a', 'r', 'e', 'a', 'o', 'f', 'n', 'o', 'l', 'e', 's', 's', 't', 'h', 'a', 'n', '1', '0', '0', '0', '0', '0', 's', 'q', 'u', 'a', 'r', 'e', 'm', 'e', 't', 'e', 'r', 's', 'i', 'n', 'o', 'r', 'd', 'e', 'r', 't', 'o', 'h', 'o', 's', 't', 'c', 'o', 'm', 'p', 'a', 'n', 'i', 'e', 's', 'w', 'o', 'r', 'k', 'i', 'n', 'g', 'i', 'n', 'c', 'o', 'm', 'p', 'u', 't', 'e', 'r', 't', 'e', 'c', 'h', 'n', 'o', 'l', 'o', 'g', 'i', 'e', 's', 'a', 'n', 'd', 't', 'e', 'l', 'e', 'c', 'o', 'm', 'm', 'u', 'n', 'i', 'c', 'a', 't', 'i', 'o', 'n', 's', 't', 'h', 'e', 's', 't', 'a', 't', 'e', 'm', 'e', 'n', 't', 's', 'a', 'i', 'd'], ['n', 'e', 'g', 'a', 't', 'i', 'v', 'e', 't', 'h', 'e', 'i', 'n', 't', 'e', 'r', 'n', 'a', 't', 'i', 'o', 'n', 'a', 'l', 'e', 'l', 'e', 'c', 't', 'r', 'o', 'n', 'i', 'c', 'i', 'n', 'd', 'u', 's', 't', 'r', 'y', 'c', 'o', 'm', 'p', 'a', 'n', 'y', 'e', 'l', 'c', 'o', 't', 'e', 'q', 'h', 'a', 's', 'l', 'a', 'i', 'd', 'o', 'f', 'f', 't', 'e', 'n', 's', 'o', 'f', 'e', 'm', 'p', 'l', 'o', 'y', 'e', 'e', 's', 'f', 'r', 'o', 'm', 'i', 't', 's', 't', 'a', 'l', 'l', 'i', 'n', 'n', 'f', 'a', 'c', 'i', 'l', 'i', 't', 'y', 'c', 'o', 'n', 't', 'r', 'a', 'r', 'y', 't', 'o', 'e', 'a', 'r', 'l', 'i', 'e', 'r', 'l', 'a', 'y', 'o', 'f', 'f', 's', 't', 'h', 'e', 'c', 'o', 'm', 'p', 'a', 'n', 'y', 'c', 'o', 'n', 't', 'r', 'a', 'c', 't', 'e', 'd', 't', 'h', 'e', 'r', 'a', 'n', 'k', 's', 'o', 'f', 'i', 't', 's', 'o', 'f', 'f', 'i', 'c', 'e', 'w', 'o', 'r', 'k', 'e', 'r', 's', 't', 'h', 'e', 'd', 'a', 'i', 'l', 'y', 'p', 'o', 's', 't', 'i', 'm', 'e', 'e', 's', 'r', 'e', 'p', 'o', 'r', 't', 'e', 'd'], ['p', 'o', 's', 'i', 't', 'i', 'v', 'e', 'w', 'i', 't', 'h', 't', 'h', 'e', 'n', 'e', 'w', 'p', 'r', 'o', 'd', 'u', 'c', 't', 'i', 'o', 'n', 'p', 'l', 'a', 'n', 't', 't', 'h', 'e', 'c', 'o', 'm', 'p', 'a', 'n', 'y', 'w', 'o', 'u', 'l', 'd', 'i', 'n', 'c', 'r', 'e', 'a', 's', 'e', 'i', 't', 's', 'c', 'a', 'p', 'a', 'c', 'i', 't', 'y', 't', 'o', 'm', 'e', 'e', 't', 't', 'h', 'e', 'e', 'x', 'p', 'e', 'c', 't', 'e', 'd', 'i', 'n', 'c', 'r', 'e', 'a', 's', 'e', 'i', 'n', 'd', 'e', 'm', 'a', 'n', 'd', 'a', 'n', 'd', 'w', 'o', 'u', 'l', 'd', 'i', 'm', 'p', 'r', 'o', 'v', 'e', 't', 'h', 'e', 'u', 's', 'e', 'o', 'f', 'r', 'a', 'w', 'm', 'a', 't', 'e', 'r', 'i', 'a', 'l', 's', 'a', 'n', 'd', 't', 'h', 'e', 'r', 'e', 'f', 'o', 'r', 'e', 'i', 'n', 'c', 'r', 'e', 'a', 's', 'e', 't', 'h', 'e', 'p', 'r', 'o', 'd', 'u', 'c', 't', 'i', 'o', 'n', 'p', 'r', 'o', 'f', 'i', 't', 'a', 'b', 'i', 'l', 'i', 't', 'y'], ['p', 'o', 's', 'i', 't', 'i', 'v', 'e', 'a', 'c', 'c', 'o', 'r', 'd', 'i', 'n', 'g', 't', 'o', 't', 'h', 'e', 'c', 'o', 'm', 'p', 'a', 'n', 'y', 's', 'u', 'p', 'd', 'a', 't', 'e', 'd', 's', 't', 'r', 'a', 't', 'e', 'g', 'y', 'f', 'o', 'r', 't', 'h', 'e', 'y', 'e', 'a', 'r', 's', '2', '0', '0', '9', '2', '0', '1', '2', 'b', 'a', 's', 'w', 'a', 'r', 'e', 't', 'a', 'r', 'g', 'e', 't', 's', 'a', 'l', 'o', 'n', 'g', 't', 'e', 'r', 'm', 'n', 'e', 't', 's', 'a', 'l', 'e', 's', 'g', 'r', 'o', 'w', 't', 'h', 'i', 'n', 't', 'h', 'e', 'r', 'a', 'n', 'g', 'e', 'o', 'f', '2', '0', '4', '0', 'w', 'i', 't', 'h', 'a', 'n', 'o', 'p', 'e', 'r', 'a', 't', 'i', 'n', 'g', 'p', 'r', 'o', 'f', 'i', 't', 'm', 'a', 'r', 'g', 'i', 'n', 'o', 'f', '1', '0', '2', '0', 'o', 'f', 'n', 'e', 't', 's', 'a', 'l', 'e', 's'], ['p', 'o', 's', 'i', 't', 'i', 'v', 'e', 'f', 'i', 'n', 'a', 'n', 'c', 'i', 'n', 'g', 'o', 'f', 'a', 's', 'p', 'o', 'c', 'o', 'm', 'p', 's', 'g', 'r', 'o', 'w', 't', 'h', 'a', 's', 'p', 'o', 'c', 'o', 'm', 'p', 'i', 's', 'a', 'g', 'g', 'r', 'e', 's', 's', 'i', 'v', 'e', 'l', 'y', 'p', 'u', 'r', 's', 'u', 'i', 'n', 'g', 'i', 't', 's', 'g', 'r', 'o', 'w', 't', 'h', 's', 't', 'r', 'a', 't', 'e', 'g', 'y', 'b', 'y', 'i', 'n', 'c', 'r', 'e', 'a', 's', 'i', 'n', 'g', 'l', 'y', 'f', 'o', 'c', 'u', 's', 'i', 'n', 'g', 'o', 'n', 't', 'e', 'c', 'h', 'n', 'o', 'l', 'o', 'g', 'i', 'c', 'a', 'l', 'l', 'y', 'm', 'o', 'r', 'e', 'd', 'e', 'm', 'a', 'n', 'd', 'i', 'n', 'g', 'h', 'd', 'i', 'p', 'r', 'i', 'n', 't', 'e', 'd', 'c', 'i', 'r', 'c', 'u', 'i', 't', 'b', 'o', 'a', 'r', 'd', 's', 'p', 'c', 'b', 's'], ['p', 'o', 's', 'i', 't', 'i', 'v', 'e', 'f', 'o', 'r', 't', 'h', 'e', 'l', 'a', 's', 't', 'q', 'u', 'a', 'r', 't', 'e', 'r', 'o', 'f', '2', '0', '1', '0', 'c', 'o', 'm', 'p', 'o', 'n', 'e', 'n', 't', 'a', 's', 'n', 'e', 't', 's', 'a', 'l', 'e', 's', 'd', 'o', 'u', 'b', 'l', 'e', 'd', 't', 'o', 'e', 'u', 'r', '1', '3', '1', 'm', 'f', 'r', 'o', 'm', 'e', 'u', 'r', '7', '6', 'm', 'f', 'o', 'r', 't', 'h', 'e', 's', 'a', 'm', 'e', 'p', 'e', 'r', 'i', 'o', 'd', 'a', 'y', 'e', 'a', 'r', 'e', 'a', 'r', 'l', 'i', 'e', 'r', 'w', 'h', 'i', 'l', 'e', 'i', 't', 'm', 'o', 'v', 'e', 'd', 't', 'o', 'a', 'z', 'e', 'r', 'o', 'p', 'r', 'e', 't', 'a', 'x', 'p', 'r', 'o', 'f', 'i', 't', 'f', 'r', 'o', 'm', 'a', 'p', 'r', 'e', 't', 'a', 'x', 'l', 'o', 's', 's', 'o', 'f', 'e', 'u', 'r', '7', 'm'], ['p', 'o', 's', 'i', 't', 'i', 'v', 'e', 'i', 'n', 't', 'h', 'e', 't', 'h', 'i', 'r', 'd', 'q', 'u', 'a', 'r', 't', 'e', 'r', 'o', 'f', '2', '0', '1', '0', 'n', 'e', 't', 's', 'a', 'l', 'e', 's', 'i', 'n', 'c', 'r', 'e', 'a', 's', 'e', 'd', 'b', 'y', '5', '2', 't', 'o', 'e', 'u', 'r', '2', '0', '5', '5', 'm', 'n', 'a', 'n', 'd', 'o', 'p', 'e', 'r', 'a', 't', 'i', 'n', 'g', 'p', 'r', 'o', 'f', 'i', 't', 'b', 'y', '3', '4', '9', 't', 'o', 'e', 'u', 'r', '2', '3', '5', 'm', 'n'], ['p', 'o', 's', 'i', 't', 'i', 'v', 'e', 'o', 'p', 'e', 'r', 'a', 't', 'i', 'n', 'g', 'p', 'r', 'o', 'f', 'i', 't', 'r', 'o', 's', 'e', 't', 'o', 'e', 'u', 'r', '1', '3', '1', 'm', 'n', 'f', 'r', 'o', 'm', 'e', 'u', 'r', '8', '7', 'm', 'n', 'i', 'n', 't', 'h', 'e', 'c', 'o', 'r', 'r', 'e', 's', 'p', 'o', 'n', 'd', 'i', 'n', 'g', 'p', 'e', 'r', 'i', 'o', 'd', 'i', 'n', '2', '0', '0', '7', 'r', 'e', 'p', 'r', 'e', 's', 'e', 'n', 't', 'i', 'n', 'g', '7', '7', 'o', 'f', 'n', 'e', 't', 's', 'a', 'l', 'e', 's'], ['p', 'o', 's', 'i', 't', 'i', 'v', 'e', 'o', 'p', 'e', 'r', 'a', 't', 'i', 'n', 'g', 'p', 'r', 'o', 'f', 'i', 't', 't', 'o', 't', 'a', 'l', 'l', 'e', 'd', 'e', 'u', 'r', '2', '1', '1', 'm', 'n', 'u', 'p', 'f', 'r', 'o', 'm', 'e', 'u', 'r', '1', '8', '6', 'm', 'n', 'i', 'n', '2', '0', '0', '7', 'r', 'e', 'p', 'r', 'e', 's', 'e', 'n', 't', 'i', 'n', 'g', '9', '7', 'o', 'f', 'n', 'e', 't', 's', 'a', 'l', 'e', 's']] \n",
      " [['n', 'e', 'u', 't', 'r', 'a', 'l', 't', 'h', 'e', 'o', 'r', 'a', 'n', 'g', 'e', 'h', 'a', 'n', 'd', 'l', 'e', 'd', 's', 'c', 'i', 's', 's', 'o', 'r', 's', 'f', 'r', 'o', 'm', 'f', 'i', 's', 'k', 'a', 'r', 's', 'a', 'r', 'e', 'p', 'a', 'r', 't', 'o', 'f', 't', 'h', 'e', 'p', 'e', 'r', 'm', 'a', 'n', 'e', 'n', 't', 'd', 'e', 's', 'i', 'g', 'n', 'c', 'o', 'l', 'l', 'e', 'c', 't', 'i', 'o', 'n', 'o', 'f', 't', 'h', 'e', 'm', 'u', 's', 'e', 'u', 'm', 'o', 'f', 'm', 'o', 'd', 'e', 'r', 'n', 'a', 'r', 't', 'i', 'n', 'n', 'e', 'w', 'y', 'o', 'r', 'k', 'a', 's', 'w', 'e', 'l', 'l', 'a', 's', 't', 'h', 'e', 'p', 'h', 'i', 'l', 'a', 'd', 'e', 'l', 'p', 'h', 'i', 'a', 'm', 'u', 's', 'e', 'u', 'm', 'o', 'f', 'a', 'r', 't'], ['n', 'e', 'u', 't', 'r', 'a', 'l', 't', 'h', 'e', 'o', 'r', 'd', 'e', 'r', 'a', 'l', 's', 'o', 'c', 'o', 'v', 'e', 'r', 's', 'd', 'e', 's', 'i', 'g', 'n', 's', 'e', 'r', 'v', 'i', 'c', 'e', 's', 'h', 'a', 'r', 'd', 'w', 'a', 'r', 'e', 's', 'o', 'f', 't', 'w', 'a', 'r', 'e', 'l', 'i', 'c', 'e', 'n', 'c', 'e', 's', 'a', 's', 'w', 'e', 'l', 'l', 'a', 's', 'm', 'a', 'i', 'n', 't', 'e', 'n', 'a', 'n', 'c', 'e', 's', 'e', 'r', 'v', 'i', 'c', 'e', 's', 'o', 'v', 'e', 'r', 's', 'i', 'x', 'y', 'e', 'a', 'r', 's'], ['n', 'e', 'u', 't', 'r', 'a', 'l', 't', 'h', 'e', 'o', 'r', 'd', 'e', 'r', 'a', 'l', 's', 'o', 'i', 'n', 'c', 'l', 'u', 'd', 'e', 's', 'e', 'x', 't', 'e', 'n', 's', 'i', 'v', 'e', 'm', 'a', 'i', 'n', 't', 'e', 'n', 'a', 'n', 'c', 'e', 'w', 'o', 'r', 'k', 'o', 'f', 'a', 's', 'h', 'o', 'e', 'p', 'r', 'e', 's', 's', 'd', 'e', 'l', 'i', 'v', 'e', 'r', 'e', 'd', 'b', 'y', 'v', 'a', 'a', 'h', 't', 'o', 'i', 'n', '2', '0', '0', '1'], ['n', 'e', 'u', 't', 'r', 'a', 'l', 't', 'h', 'e', 'o', 'r', 'd', 'e', 'r', 'c', 'o', 'n', 's', 'i', 's', 't', 's', 'o', 'f', 'o', 'u', 't', 's', 'o', 'u', 'r', 'c', 'e', 'd', 'a', 'p', 'p', 'l', 'i', 'c', 'a', 't', 'i', 'o', 'n', 'm', 'a', 'n', 'a', 'g', 'e', 'm', 'e', 'n', 't', 's', 'u', 'p', 'p', 'o', 'r', 't', 'a', 'n', 'd', 'p', 'l', 'a', 'n', 'n', 'i', 'n', 'g', 'f', 'o', 'r', 't', 'e', 'c', 'n', 'o', 't', 'r', 'e', 'e', 'a', 'n', 'd', 't', 'h', 'i', 'r', 'd', 'p', 'a', 'r', 't', 'y', 'a', 'p', 'p', 'l', 'i', 'c', 'a', 't', 'i', 'o', 'n', 's'], ['n', 'e', 'u', 't', 'r', 'a', 'l', 't', 'h', 'e', 'o', 'r', 'd', 'e', 'r', 'i', 'n', 'c', 'l', 'u', 'd', 'e', 's', '4', '8', 's', 'h', 'i', 'p', 'c', 'r', 'a', 'n', 'e', 's', 't', 'h', 'a', 't', 'w', 'i', 'l', 'l', 'b', 'e', 'd', 'e', 'l', 'i', 'v', 'e', 'r', 'e', 'd', 'f', 'o', 'r', '1', '2', 'c', 'o', 'n', 't', 'a', 'i', 'n', 'e', 'r', 'f', 'e', 'e', 'd', 'e', 'r', 's', 't', 'o', 'b', 'e', 'b', 'u', 'i', 'l', 't', 'a', 't', 'w', 'e', 'n', 'c', 'h', 'o', 'n', 'g', 's', 'h', 'i', 'p', 'y', 'a', 'r', 'd', 'i', 'n', 'c', 'h', 'i', 'n', 'a'], ['n', 'e', 'u', 't', 'r', 'a', 'l', 't', 'h', 'e', 'o', 'r', 'd', 'e', 'r', 'v', 'a', 'l', 'u', 'e', 's', 'a', 't', 'e', 'u', 'r', '6', '9', 'm', 'n', 'a', 'n', 'd', 'i', 't', 'c', 'o', 'n', 's', 'i', 's', 't', 's', 'o', 'f', 'd', 'e', 's', 'i', 'g', 'n', 's', 'e', 'r', 'v', 'i', 'c', 'e', 's', 'a', 'n', 'd', 'h', 'a', 'r', 'd', 'w', 'a', 'r', 'e', 'a', 'n', 'd', 's', 'o', 'f', 't', 'w', 'a', 'r', 'e', 'l', 'i', 'c', 'e', 'n', 'c', 'e', 's'], ['n', 'e', 'u', 't', 'r', 'a', 'l', 't', 'h', 'e', 'o', 'r', 'd', 'e', 'r', 's', 'a', 'l', 's', 'o', 'i', 'n', 'c', 'l', 'u', 'd', 'e', 'a', 'f', 'e', 'w', 'h', 'i', 'g', 'h', 'p', 'o', 'w', 'e', 'r', 'd', 'r', 'i', 'v', 'e', 's', 'f', 'o', 'r', 't', 'h', 'e', 'c', 'o', 'n', 't', 'r', 'o', 'l', 'o', 'f', 's', 'e', 'i', 's', 'm', 'i', 'c', 'c', 'o', 'm', 'p', 'r', 'e', 's', 's', 'o', 'r', 's'], ['n', 'e', 'u', 't', 'r', 'a', 'l', 't', 'h', 'e', 'o', 'r', 'd', 'e', 'r', 's', 'a', 'r', 'e', 'f', 'o', 'r', '2', '6', 'm', 'a', 'c', 'h', 'i', 'n', 'e', 'r', 'o', 'o', 'm', 'l', 'e', 's', 's', 'k', 'o', 'n', 'e', 'm', 'o', 'n', 'o', 's', 'p', 'a', 'c', 'e', 'e', 'l', 'e', 'v', 'a', 't', 'o', 'r', 's', 'w', 'h', 'i', 'c', 'h', 'w', 'o', 'u', 'l', 'd', 'b', 'e', 'i', 'n', 's', 't', 'a', 'l', 'l', 'e', 'd', 'd', 'u', 'r', 'i', 'n', 'g', '2', '0', '0', '6'], ['n', 'e', 'u', 't', 'r', 'a', 'l', 't', 'h', 'e', 'o', 'u', 'l', 'u', 'p', 'l', 'a', 'n', 't', 'e', 'm', 'p', 'l', 'o', 'y', 's', 'a', 'p', 'p', 'r', 'o', 'x', 'i', 'm', 'a', 't', 'e', 'l', 'y', '1', '2', '0', 'p', 'e', 'o', 'p', 'l', 'e'], ['n', 'e', 'u', 't', 'r', 'a', 'l', 't', 'h', 'e', 'p', 'e', 'r', 'c', 'e', 'n', 't', 'a', 'g', 'e', 's', 'o', 'f', 's', 'h', 'a', 'r', 'e', 's', 'a', 'n', 'd', 'v', 'o', 't', 'i', 'n', 'g', 'r', 'i', 'g', 'h', 't', 's', 'h', 'a', 'v', 'e', 'b', 'e', 'e', 'n', 'c', 'a', 'l', 'c', 'u', 'l', 'a', 't', 'e', 'd', 'i', 'n', 'p', 'r', 'o', 'p', 'o', 'r', 't', 'i', 'o', 'n', 't', 'o', 't', 'h', 'e', 't', 'o', 't', 'a', 'l', 'n', 'u', 'm', 'b', 'e', 'r', 'o', 'f', 's', 'h', 'a', 'r', 'e', 's', 'r', 'e', 'g', 'i', 's', 't', 'e', 'r', 'e', 'd', 'w', 'i', 't', 'h', 't', 'h', 'e', 't', 'r', 'a', 'd', 'e', 'r', 'e', 'g', 'i', 's', 't', 'e', 'r', 'a', 'n', 'd', 't', 'h', 'e', 't', 'o', 't', 'a', 'l', 'n', 'u', 'm', 'b', 'e', 'r', 'o', 'f', 'v', 'o', 't', 'i', 'n', 'g', 'r', 'i', 'g', 'h', 't', 's', 'r', 'e', 'l', 'a', 't', 'e', 'd', 't', 'o', 't', 'h', 'e', 'm']]\n"
     ]
    }
   ],
   "source": [
    "import solution\n",
    "from importlib import reload\n",
    "solution = reload(solution)\n",
    "\n",
    "#ToDo: Add code here to call the functions for each step as you did in assignment4,\n",
    "# i.e. loading the dataset, doing the splits, etc.\n",
    "corpus = solution.load_and_preprocess_data(\"./all-data.csv\", remove_punct=True, lowercase=True)\n",
    "\n",
    "#Implement corpus splitting. Do not randomize anything here.\n",
    "train,test = solution.train_test_split(corpus, 0.8)\n",
    "print(train[:10], '\\n', test[:10])\n",
    "\n",
    "# Get the confusion matrix from solution.py file, since it's amulti-class classification\n",
    "# Confusion matrix should give you a better ides\n",
    "# confusion_matrix = solution.test()"
   ]
  },
  {
   "cell_type": "code",
   "execution_count": null,
   "metadata": {},
   "outputs": [],
   "source": [
    "#ToDo: Extend the code here to get accuracy, precision and F1 scores from your confusion matrix"
   ]
  }
 ],
 "metadata": {
  "kernelspec": {
   "display_name": "summary",
   "language": "python",
   "name": "python3"
  },
  "language_info": {
   "codemirror_mode": {
    "name": "ipython",
    "version": 3
   },
   "file_extension": ".py",
   "mimetype": "text/x-python",
   "name": "python",
   "nbconvert_exporter": "python",
   "pygments_lexer": "ipython3",
   "version": "3.8.10"
  },
  "orig_nbformat": 4,
  "vscode": {
   "interpreter": {
    "hash": "1bf99630d34a7296688ee6c5e32d155aeaeae4bf556023602f84a41a67fb9130"
   }
  }
 },
 "nbformat": 4,
 "nbformat_minor": 2
}
